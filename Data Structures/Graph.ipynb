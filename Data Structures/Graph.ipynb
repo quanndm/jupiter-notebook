{
 "cells": [
  {
   "cell_type": "code",
   "execution_count": 72,
   "id": "d88706b1",
   "metadata": {},
   "outputs": [],
   "source": [
    "class Graph:\n",
    "    def __init__(self, edges):\n",
    "        self.edges = edges\n",
    "        self.graph_dict = {}\n",
    "        for start, end in edges:\n",
    "            if start in self.graph_dict:\n",
    "                self.graph_dict[start].append(end)\n",
    "            else:\n",
    "                self.graph_dict[start] = [end]\n",
    "        print(\"Graph Dict:\", self.graph_dict)\n",
    "    def get_paths(self, start, end, path = []):\n",
    "        path = path + [start]\n",
    "        if start == end:\n",
    "            return [path]\n",
    "        if start not in self.graph_dict:\n",
    "            return []\n",
    "        \n",
    "        paths = []\n",
    "        for node in self.graph_dict[start]:\n",
    "            if node not in path:\n",
    "                new_paths = self.get_paths(node,end,path)\n",
    "                for p in new_paths:\n",
    "                    paths.append(p)\n",
    "        return paths\n",
    "    def get_shortest_path(self, start, end, path = []):\n",
    "        path = path + [start]\n",
    "        if start == end:\n",
    "            return path\n",
    "        \n",
    "        if start not in self.graph_dict:\n",
    "            return None\n",
    "        shortest_path = None\n",
    "        for node in self.graph_dict[start]:\n",
    "            if node not in path:\n",
    "                sp = self.get_shortest_path(node, end, path)\n",
    "                if sp:\n",
    "                    if shortest_path is None or len(sp) < len(shortest_path):\n",
    "                        shortest_path = sp\n",
    "\n",
    "        return shortest_path"
   ]
  },
  {
   "cell_type": "code",
   "execution_count": 46,
   "id": "35e50b42",
   "metadata": {},
   "outputs": [],
   "source": [
    "routes = [\n",
    "    (\"Mumbai\",\"Paris\"),\n",
    "    (\"Mumbai\",\"Dubai\"),\n",
    "    (\"Paris\",\"Dubai\"),\n",
    "    (\"Paris\",\"New York\"),\n",
    "    (\"Dubai\",\"New York\"),\n",
    "    (\"New York\",\"Toronto\")\n",
    "]"
   ]
  },
  {
   "cell_type": "code",
   "execution_count": 75,
   "id": "edcf20cd",
   "metadata": {},
   "outputs": [
    {
     "name": "stdout",
     "output_type": "stream",
     "text": [
      "Graph Dict: {'Mumbai': ['Paris', 'Dubai'], 'Paris': ['Dubai', 'New York'], 'Dubai': ['New York'], 'New York': ['Toronto']}\n"
     ]
    },
    {
     "data": {
      "text/plain": [
       "[['Mumbai', 'Paris', 'Dubai', 'New York'],\n",
       " ['Mumbai', 'Paris', 'New York'],\n",
       " ['Mumbai', 'Dubai', 'New York']]"
      ]
     },
     "execution_count": 75,
     "metadata": {},
     "output_type": "execute_result"
    }
   ],
   "source": [
    "route_graph = Graph(routes)\n",
    "start = \"Mumbai\"\n",
    "end = \"New York\"\n",
    "route_graph.get_paths(start,end)"
   ]
  },
  {
   "cell_type": "code",
   "execution_count": 74,
   "id": "7d41b681",
   "metadata": {},
   "outputs": [
    {
     "name": "stdout",
     "output_type": "stream",
     "text": [
      "['Mumbai', 'Paris', 'New York']\n"
     ]
    }
   ],
   "source": [
    "start = \"Mumbai\"\n",
    "end = \"New York\"\n",
    "print(route_graph.get_shortest_path(start,end))"
   ]
  }
 ],
 "metadata": {
  "kernelspec": {
   "display_name": "Python 3 (ipykernel)",
   "language": "python",
   "name": "python3"
  },
  "language_info": {
   "codemirror_mode": {
    "name": "ipython",
    "version": 3
   },
   "file_extension": ".py",
   "mimetype": "text/x-python",
   "name": "python",
   "nbconvert_exporter": "python",
   "pygments_lexer": "ipython3",
   "version": "3.10.7"
  }
 },
 "nbformat": 4,
 "nbformat_minor": 5
}
