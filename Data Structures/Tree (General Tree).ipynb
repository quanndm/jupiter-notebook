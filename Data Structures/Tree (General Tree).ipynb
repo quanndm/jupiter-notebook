{
 "cells": [
  {
   "cell_type": "code",
   "execution_count": 60,
   "id": "19fbc9af",
   "metadata": {},
   "outputs": [],
   "source": [
    "class TreeNode:\n",
    "    def __init__(self,data):\n",
    "        self.data = data\n",
    "        self.children = []\n",
    "        self.parent = None\n",
    "    def add_child(self,child):\n",
    "        child.parent = self\n",
    "        self.children.append(child)\n",
    "    def print_tree(self):\n",
    "        spaces = \"  \" * self.get_level() * 3\n",
    "        prefix = spaces + \"|__\" if self.parent else \"\"\n",
    "        print(prefix +self.data)\n",
    "        if self.children :\n",
    "            for child in self.children:\n",
    "                child.print_tree()\n",
    "    def get_level(self):\n",
    "        level = 0\n",
    "        p = self.parent\n",
    "        while p:\n",
    "            level += 1\n",
    "            p = p.parent\n",
    "        return level"
   ]
  },
  {
   "cell_type": "code",
   "execution_count": 34,
   "id": "f919752d",
   "metadata": {},
   "outputs": [],
   "source": [
    "def build_product_tree():\n",
    "    root = TreeNode(\"Electronics\")\n",
    "    \n",
    "    laptop = TreeNode(\"Laptop\")\n",
    "    laptop.add_child(TreeNode(\"Mac\"))\n",
    "    laptop.add_child(TreeNode(\"Surface\"))\n",
    "    laptop.add_child(TreeNode(\"Thinkpad\"))\n",
    "    \n",
    "    \n",
    "    cellphone = TreeNode(\"Cellphone\")\n",
    "    cellphone.add_child(TreeNode(\"IPhone\"))\n",
    "    cellphone.add_child(TreeNode(\"Google Pixel\"))\n",
    "    cellphone.add_child(TreeNode(\"Vivo\"))\n",
    "    \n",
    "    television = TreeNode(\"Television\")\n",
    "    television.add_child(TreeNode(\"Samsung\"))\n",
    "    television.add_child(TreeNode(\"LG\"))\n",
    "    \n",
    "    root.add_child(laptop)\n",
    "    root.add_child(cellphone)\n",
    "    root.add_child(television)\n",
    "    return root"
   ]
  },
  {
   "cell_type": "code",
   "execution_count": 61,
   "id": "05345236",
   "metadata": {},
   "outputs": [],
   "source": [
    "root =  build_product_tree()\n",
    "# print(root.data)  "
   ]
  },
  {
   "cell_type": "code",
   "execution_count": 20,
   "id": "dbcad78b",
   "metadata": {},
   "outputs": [
    {
     "name": "stdout",
     "output_type": "stream",
     "text": [
      "['Laptop', 'Laptop', 'Television']\n"
     ]
    }
   ],
   "source": [
    "print([child.data for child in root.children])  "
   ]
  },
  {
   "cell_type": "code",
   "execution_count": 62,
   "id": "3d253fed",
   "metadata": {},
   "outputs": [
    {
     "name": "stdout",
     "output_type": "stream",
     "text": [
      "Electronics\n",
      "      |__Laptop\n",
      "            |__Mac\n",
      "            |__Surface\n",
      "            |__Thinkpad\n",
      "      |__Cellphone\n",
      "            |__IPhone\n",
      "            |__Google Pixel\n",
      "            |__Vivo\n",
      "      |__Television\n",
      "            |__Samsung\n",
      "            |__LG\n"
     ]
    }
   ],
   "source": [
    "root.print_tree()"
   ]
  }
 ],
 "metadata": {
  "kernelspec": {
   "display_name": "Python 3 (ipykernel)",
   "language": "python",
   "name": "python3"
  },
  "language_info": {
   "codemirror_mode": {
    "name": "ipython",
    "version": 3
   },
   "file_extension": ".py",
   "mimetype": "text/x-python",
   "name": "python",
   "nbconvert_exporter": "python",
   "pygments_lexer": "ipython3",
   "version": "3.10.7"
  }
 },
 "nbformat": 4,
 "nbformat_minor": 5
}
