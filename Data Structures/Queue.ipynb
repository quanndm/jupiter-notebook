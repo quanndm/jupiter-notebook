{
 "cells": [
  {
   "cell_type": "markdown",
   "id": "5aa4d7c4",
   "metadata": {},
   "source": [
    "# using list as queue"
   ]
  },
  {
   "cell_type": "code",
   "execution_count": 1,
   "id": "adf9ee8f",
   "metadata": {},
   "outputs": [],
   "source": [
    "wmt_stock_price_queue = []"
   ]
  },
  {
   "cell_type": "code",
   "execution_count": 2,
   "id": "32dac016",
   "metadata": {},
   "outputs": [],
   "source": [
    "wmt_stock_price_queue.insert(0,131.10)\n",
    "wmt_stock_price_queue.insert(0,132.12)\n",
    "wmt_stock_price_queue.insert(0,135)"
   ]
  },
  {
   "cell_type": "code",
   "execution_count": 3,
   "id": "b2b53df1",
   "metadata": {},
   "outputs": [
    {
     "data": {
      "text/plain": [
       "[135, 132.12, 131.1]"
      ]
     },
     "execution_count": 3,
     "metadata": {},
     "output_type": "execute_result"
    }
   ],
   "source": [
    "wmt_stock_price_queue"
   ]
  },
  {
   "cell_type": "code",
   "execution_count": 4,
   "id": "f8d35d60",
   "metadata": {},
   "outputs": [
    {
     "data": {
      "text/plain": [
       "131.1"
      ]
     },
     "execution_count": 4,
     "metadata": {},
     "output_type": "execute_result"
    }
   ],
   "source": [
    "wmt_stock_price_queue.pop()"
   ]
  },
  {
   "cell_type": "code",
   "execution_count": 5,
   "id": "bc31e51d",
   "metadata": {},
   "outputs": [
    {
     "data": {
      "text/plain": [
       "[135, 132.12]"
      ]
     },
     "execution_count": 5,
     "metadata": {},
     "output_type": "execute_result"
    }
   ],
   "source": [
    "wmt_stock_price_queue"
   ]
  },
  {
   "cell_type": "markdown",
   "id": "1db0de7d",
   "metadata": {},
   "source": [
    "# using collections deque as queue"
   ]
  },
  {
   "cell_type": "code",
   "execution_count": 8,
   "id": "fe7aba1b",
   "metadata": {},
   "outputs": [],
   "source": [
    "from collections import deque\n",
    "q = deque()"
   ]
  },
  {
   "cell_type": "code",
   "execution_count": 9,
   "id": "af0f4d50",
   "metadata": {},
   "outputs": [],
   "source": [
    "q.appendleft(5)\n",
    "q.appendleft(8)\n",
    "q.appendleft(27)"
   ]
  },
  {
   "cell_type": "code",
   "execution_count": 10,
   "id": "e148c521",
   "metadata": {},
   "outputs": [
    {
     "data": {
      "text/plain": [
       "5"
      ]
     },
     "execution_count": 10,
     "metadata": {},
     "output_type": "execute_result"
    }
   ],
   "source": [
    "q.pop()"
   ]
  },
  {
   "cell_type": "code",
   "execution_count": 11,
   "id": "e4389b46",
   "metadata": {},
   "outputs": [
    {
     "data": {
      "text/plain": [
       "deque([27, 8])"
      ]
     },
     "execution_count": 11,
     "metadata": {},
     "output_type": "execute_result"
    }
   ],
   "source": [
    "q"
   ]
  },
  {
   "cell_type": "code",
   "execution_count": 12,
   "id": "c6057852",
   "metadata": {},
   "outputs": [
    {
     "data": {
      "text/plain": [
       "8"
      ]
     },
     "execution_count": 12,
     "metadata": {},
     "output_type": "execute_result"
    }
   ],
   "source": [
    "q.pop()"
   ]
  },
  {
   "cell_type": "code",
   "execution_count": 13,
   "id": "117d3c91",
   "metadata": {},
   "outputs": [
    {
     "data": {
      "text/plain": [
       "deque([27])"
      ]
     },
     "execution_count": 13,
     "metadata": {},
     "output_type": "execute_result"
    }
   ],
   "source": [
    "q"
   ]
  },
  {
   "cell_type": "code",
   "execution_count": 14,
   "id": "95b9e0c6",
   "metadata": {},
   "outputs": [],
   "source": [
    "from collections import deque\n",
    "class Queue:\n",
    "    def __init__(self):\n",
    "        self.buffer = deque()\n",
    "        \n",
    "    def enqueue(self, val):\n",
    "        self.buffer.appendleft(val)\n",
    "    \n",
    "    def dequeue(self):\n",
    "        return self.buffer.pop()\n",
    "    def is_empty(self):\n",
    "        return len(self.buffer) == 0\n",
    "    def size(self):\n",
    "        return len(self.buffer)"
   ]
  },
  {
   "cell_type": "code",
   "execution_count": 15,
   "id": "4b020269",
   "metadata": {},
   "outputs": [],
   "source": [
    "pq = Queue()\n",
    "pq.enqueue({\n",
    "    \"company\":\"Wal Mart\",\n",
    "    \"timestamp\":\"15 apr, 11.01 AM\",\n",
    "    \"price\": 131.10\n",
    "})\n",
    "pq.enqueue({\n",
    "    \"company\":\"Wal Mart\",\n",
    "    \"timestamp\":\"15 apr, 11.02 AM\",\n",
    "    \"price\": 132\n",
    "})\n",
    "pq.enqueue({\n",
    "    \"company\":\"Wal Mart\",\n",
    "    \"timestamp\":\"15 apr, 11.03 AM\",\n",
    "    \"price\": 135\n",
    "})"
   ]
  },
  {
   "cell_type": "code",
   "execution_count": 16,
   "id": "23a87af2",
   "metadata": {},
   "outputs": [
    {
     "data": {
      "text/plain": [
       "deque([{'company': 'Wal Mart', 'timestamp': '15 apr, 11.03 AM', 'price': 135},\n",
       "       {'company': 'Wal Mart', 'timestamp': '15 apr, 11.02 AM', 'price': 132},\n",
       "       {'company': 'Wal Mart',\n",
       "        'timestamp': '15 apr, 11.01 AM',\n",
       "        'price': 131.1}])"
      ]
     },
     "execution_count": 16,
     "metadata": {},
     "output_type": "execute_result"
    }
   ],
   "source": [
    "pq.buffer"
   ]
  },
  {
   "cell_type": "code",
   "execution_count": 17,
   "id": "192c321d",
   "metadata": {},
   "outputs": [
    {
     "data": {
      "text/plain": [
       "{'company': 'Wal Mart', 'timestamp': '15 apr, 11.01 AM', 'price': 131.1}"
      ]
     },
     "execution_count": 17,
     "metadata": {},
     "output_type": "execute_result"
    }
   ],
   "source": [
    "pq.dequeue()"
   ]
  },
  {
   "cell_type": "code",
   "execution_count": 18,
   "id": "292d0048",
   "metadata": {},
   "outputs": [
    {
     "data": {
      "text/plain": [
       "deque([{'company': 'Wal Mart', 'timestamp': '15 apr, 11.03 AM', 'price': 135},\n",
       "       {'company': 'Wal Mart', 'timestamp': '15 apr, 11.02 AM', 'price': 132}])"
      ]
     },
     "execution_count": 18,
     "metadata": {},
     "output_type": "execute_result"
    }
   ],
   "source": [
    "pq.buffer"
   ]
  },
  {
   "cell_type": "code",
   "execution_count": null,
   "id": "2213537f",
   "metadata": {},
   "outputs": [],
   "source": []
  }
 ],
 "metadata": {
  "kernelspec": {
   "display_name": "Python 3 (ipykernel)",
   "language": "python",
   "name": "python3"
  },
  "language_info": {
   "codemirror_mode": {
    "name": "ipython",
    "version": 3
   },
   "file_extension": ".py",
   "mimetype": "text/x-python",
   "name": "python",
   "nbconvert_exporter": "python",
   "pygments_lexer": "ipython3",
   "version": "3.10.7"
  }
 },
 "nbformat": 4,
 "nbformat_minor": 5
}
