{
 "cells": [
  {
   "cell_type": "markdown",
   "id": "383114ce",
   "metadata": {},
   "source": [
    "## Valid Anagram\n",
    "    - Given two strings s1 and s2. Check if they're anagram. Two strings are anagrams if they're made of the same characters with the same frequencies"
   ]
  },
  {
   "cell_type": "markdown",
   "id": "f576c173",
   "metadata": {},
   "source": [
    "1. use dictionary to save character as key, and count them, compare two dictionary "
   ]
  },
  {
   "cell_type": "code",
   "execution_count": 15,
   "id": "89bc9fea",
   "metadata": {},
   "outputs": [],
   "source": [
    "def are_anagrams(s1, s2):\n",
    "    if len(s1) != len(s2):\n",
    "        return False\n",
    "    freq1 = {}\n",
    "    freq2 = {}\n",
    "    for char in s1:\n",
    "        if char in freq1:\n",
    "            freq1[char] += 1\n",
    "        else:\n",
    "            freq1[char] = 1\n",
    "    \n",
    "    for char in s2:\n",
    "        if char in freq2:\n",
    "            freq2[char] += 1\n",
    "        else:\n",
    "            freq2[char] = 1\n",
    "            \n",
    "    for key in freq1:\n",
    "        if key not in freq2 or freq1[key] != freq2[key]:\n",
    "            return False\n",
    "    return True"
   ]
  },
  {
   "cell_type": "markdown",
   "id": "e107f35a",
   "metadata": {},
   "source": [
    "2. sort string and compare them "
   ]
  },
  {
   "cell_type": "code",
   "execution_count": 18,
   "id": "28609ae3",
   "metadata": {},
   "outputs": [],
   "source": [
    "def are_anagrams(s1, s2):\n",
    "    if len(s1) != len(s2):\n",
    "        return False\n",
    "    return sorted(s1)==sorted(s2)"
   ]
  },
  {
   "cell_type": "markdown",
   "id": "f4d403b5",
   "metadata": {},
   "source": [
    "3. Use collections Counter to count hashtable subject"
   ]
  },
  {
   "cell_type": "code",
   "execution_count": 22,
   "id": "c7c17835",
   "metadata": {},
   "outputs": [],
   "source": [
    "from collections import Counter\n",
    "def are_anagrams(s1, s2):\n",
    "    if len(s1) != len(s2):\n",
    "        return False\n",
    "    return Counter(s1)==Counter(s2)"
   ]
  },
  {
   "cell_type": "code",
   "execution_count": 23,
   "id": "3ecc7f71",
   "metadata": {},
   "outputs": [
    {
     "data": {
      "text/plain": [
       "True"
      ]
     },
     "execution_count": 23,
     "metadata": {},
     "output_type": "execute_result"
    }
   ],
   "source": [
    "s1 = \"garden\"\n",
    "s2 = \"danger\"\n",
    "are_anagrams(s1,s2)"
   ]
  },
  {
   "cell_type": "markdown",
   "id": "7ebfc42f",
   "metadata": {},
   "source": [
    "## First and last index in sorted array\n",
    "- Given a sorted array of integers arr and an integer target, find the index of the first and last position of target in arr. In target can't be found in arr, return [-1, -1]"
   ]
  },
  {
   "cell_type": "markdown",
   "id": "bb264760",
   "metadata": {},
   "source": [
    "1. use 2 for loop to find first and last position"
   ]
  },
  {
   "cell_type": "code",
   "execution_count": 32,
   "id": "40b0eb4c",
   "metadata": {},
   "outputs": [],
   "source": [
    "def find_first_and_last(arr, target):\n",
    "    for i in range(len(arr)):\n",
    "        if arr[i] == target:\n",
    "            start = i\n",
    "            while i + 1<len(arr) and arr[i+1] == target:\n",
    "                 i += 1\n",
    "            return [start, i]\n",
    "    return [-1,-1]"
   ]
  },
  {
   "cell_type": "markdown",
   "id": "e341d467",
   "metadata": {},
   "source": [
    "2. Use binary search to find first index and last index"
   ]
  },
  {
   "cell_type": "code",
   "execution_count": 50,
   "id": "9eb37681",
   "metadata": {},
   "outputs": [],
   "source": [
    "def find_start(arr,target):\n",
    "    if arr[0] == target:\n",
    "        return 0\n",
    "    left = 0 \n",
    "    right = len(arr) -1\n",
    "    while left <= right:\n",
    "        mid = (left + right) // 2\n",
    "        if arr[mid] == target and arr[mid-1]<target:\n",
    "            return mid\n",
    "        elif arr[mid] < target:\n",
    "            left = mid+1\n",
    "        else:\n",
    "            right = mid-1\n",
    "    return -1\n",
    "        \n",
    "def find_end(arr, target):\n",
    "    if arr[-1] == target:\n",
    "        return len(arr) -1\n",
    "    left = 0\n",
    "    right = len(arr) - 1\n",
    "    while left <= right:\n",
    "        mid = (left + right) // 2\n",
    "        if arr[mid] == target and arr[mid+1]>target:\n",
    "            return mid\n",
    "        elif arr[mid] > target:\n",
    "            right = mid -1\n",
    "        else:\n",
    "            left = mid + 1\n",
    "    return -1\n",
    "def first_and_last(arr, target):\n",
    "    if len(arr) == 0 or arr[0] > target or arr[-1] < target:\n",
    "        return [-1,-1]\n",
    "    start = find_start(arr, target)\n",
    "    end = find_end(arr, target)    \n",
    "    return [start,end]"
   ]
  },
  {
   "cell_type": "code",
   "execution_count": 52,
   "id": "603111b7",
   "metadata": {},
   "outputs": [
    {
     "data": {
      "text/plain": [
       "[2, 6]"
      ]
     },
     "execution_count": 52,
     "metadata": {},
     "output_type": "execute_result"
    }
   ],
   "source": [
    "arr = [2,4,5,5,5,5,5,7,9,9,9]\n",
    "target = 5\n",
    "# find_first_and_last(arr,target)\n",
    "first_and_last(arr, target)"
   ]
  },
  {
   "cell_type": "markdown",
   "id": "db5ede6b",
   "metadata": {},
   "source": [
    "# Find k<i>th</i> largest element\n",
    "   - Given an array of integers arr and an integer k, find the k<i>th</i> largest element"
   ]
  },
  {
   "cell_type": "markdown",
   "id": "e0e86e54",
   "metadata": {},
   "source": [
    "1. loop from 0 to k - 1, remove max element after 1 loop, return max element array after loop"
   ]
  },
  {
   "cell_type": "code",
   "execution_count": 53,
   "id": "a6ba9e09",
   "metadata": {},
   "outputs": [],
   "source": [
    "def kth_largest(arr, k):\n",
    "    for i in range(k-1):\n",
    "        arr.remove(max(arr))\n",
    "    return max(arr)"
   ]
  },
  {
   "cell_type": "markdown",
   "id": "817414e0",
   "metadata": {},
   "source": [
    "2. use sort and index to find"
   ]
  },
  {
   "cell_type": "code",
   "execution_count": 59,
   "id": "0ebd2ba9",
   "metadata": {},
   "outputs": [],
   "source": [
    "def kth_largest(arr,k):\n",
    "    size = len(arr)\n",
    "    arr.sort()\n",
    "    return arr[size-k]"
   ]
  },
  {
   "cell_type": "code",
   "execution_count": 60,
   "id": "a4c4e2d1",
   "metadata": {},
   "outputs": [
    {
     "data": {
      "text/plain": [
       "6"
      ]
     },
     "execution_count": 60,
     "metadata": {},
     "output_type": "execute_result"
    }
   ],
   "source": [
    "arr = [4,2,9,7,5,6,7,1,3]\n",
    "k = 4\n",
    "kth_largest(arr,k)"
   ]
  }
 ],
 "metadata": {
  "kernelspec": {
   "display_name": "Python 3 (ipykernel)",
   "language": "python",
   "name": "python3"
  },
  "language_info": {
   "codemirror_mode": {
    "name": "ipython",
    "version": 3
   },
   "file_extension": ".py",
   "mimetype": "text/x-python",
   "name": "python",
   "nbconvert_exporter": "python",
   "pygments_lexer": "ipython3",
   "version": "3.10.7"
  }
 },
 "nbformat": 4,
 "nbformat_minor": 5
}
