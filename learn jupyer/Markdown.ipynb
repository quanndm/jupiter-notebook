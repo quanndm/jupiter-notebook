{
 "cells": [
  {
   "cell_type": "markdown",
   "id": "593bdfb9",
   "metadata": {},
   "source": [
    "# Markdown"
   ]
  },
  {
   "cell_type": "markdown",
   "id": "aaf47408",
   "metadata": {},
   "source": [
    "# Heading\n",
    "# H1\n",
    "## H2\n",
    "### H3\n",
    "#### H4\n",
    "##### H5\n",
    "###### H6"
   ]
  },
  {
   "cell_type": "raw",
   "id": "500c5bd3",
   "metadata": {},
   "source": [
    "Code:\n",
    "\n",
    "# H1\n",
    "## H2\n",
    "### H3\n",
    "#### H4\n",
    "##### H5\n",
    "###### H6"
   ]
  },
  {
   "cell_type": "markdown",
   "id": "106f237e",
   "metadata": {},
   "source": [
    "# Alternative Headings"
   ]
  },
  {
   "cell_type": "markdown",
   "id": "a8eeed10",
   "metadata": {},
   "source": [
    "Heading 1\n",
    "=========\n",
    "\n",
    "Heading 2\n",
    "---------"
   ]
  },
  {
   "cell_type": "raw",
   "id": "f18b821b",
   "metadata": {},
   "source": [
    "Code:\n",
    "\n",
    "Heading 1\n",
    "=========\n",
    "\n",
    "Heading 2\n",
    "---------"
   ]
  },
  {
   "cell_type": "markdown",
   "id": "021e02d7",
   "metadata": {},
   "source": [
    "# Font Styles"
   ]
  },
  {
   "cell_type": "markdown",
   "id": "4c14fcbd",
   "metadata": {},
   "source": [
    "**Bold Font** or __Bold Font__\n",
    "\n",
    "*Italic* or _Italic Font_\n",
    "\n",
    "~~Scratched Text~~\n",
    "\n",
    "Markdown doesn't support underline. but you can do that using HTML <u>Text</u>"
   ]
  },
  {
   "cell_type": "raw",
   "id": "9fcae0c7",
   "metadata": {},
   "source": [
    "Code:\n",
    "\n",
    "**Bold Font** or __Bold Font__\n",
    "\n",
    "*Italic* or _Italic Font_\n",
    "\n",
    "~~Scratched Text~~\n",
    "\n",
    "Markdown doesn't support underline. but you can do that using HTML <u>Text</u>"
   ]
  },
  {
   "cell_type": "markdown",
   "id": "78b8aef3",
   "metadata": {},
   "source": [
    "# List"
   ]
  },
  {
   "cell_type": "markdown",
   "id": "aa86ba70",
   "metadata": {},
   "source": [
    "- item\n",
    "- item\n",
    " - subitem\n",
    " - subitem\n",
    "- item\n",
    "\n",
    "\n",
    "1. item\n",
    "2. item\n",
    " 1. sub item\n",
    " 2. sub item\n",
    "3. item"
   ]
  },
  {
   "cell_type": "raw",
   "id": "adb3bbda",
   "metadata": {},
   "source": [
    "Code:\n",
    "\n",
    "- item\n",
    "- item\n",
    " - subitem\n",
    " - subitem\n",
    "- item\n",
    "\n",
    "\n",
    "1. item\n",
    "2. item\n",
    " 1. sub item\n",
    " 2. sub item\n",
    "3. item"
   ]
  },
  {
   "cell_type": "markdown",
   "id": "794e069b",
   "metadata": {},
   "source": [
    "# Link"
   ]
  },
  {
   "cell_type": "markdown",
   "id": "f0ecdf27",
   "metadata": {},
   "source": [
    "http://www.github.com/\n",
    "\n",
    "[Github](http://www.github.com/)"
   ]
  },
  {
   "cell_type": "raw",
   "id": "ff9b6fd3",
   "metadata": {},
   "source": [
    "Code:\n",
    "\n",
    "http://www.github.com/\n",
    "\n",
    "[Github](http://www.github.com/)"
   ]
  },
  {
   "cell_type": "markdown",
   "id": "e85eb3d8",
   "metadata": {},
   "source": [
    "# Image"
   ]
  },
  {
   "cell_type": "markdown",
   "id": "ebc593e0",
   "metadata": {},
   "source": [
    "![Turing's Device](http://www.google.com/logos/2012/turing-doodle-static.jpg \"Alan Turing's 100th Birthday\")"
   ]
  },
  {
   "cell_type": "raw",
   "id": "59a41082",
   "metadata": {},
   "source": [
    "Code:\n",
    "\n",
    "![Turing's Device](http://www.google.com/logos/2012/turing-doodle-static.jpg \"Alan Turing's 100th Birthday\")"
   ]
  },
  {
   "cell_type": "markdown",
   "id": "783f0b23",
   "metadata": {},
   "source": [
    "# Quotes"
   ]
  },
  {
   "cell_type": "markdown",
   "id": "49bc37c9",
   "metadata": {},
   "source": [
    "> Why, oh why, Javascript??? Wars, famine, planetary destruction... I guess as a species, we deserve this abomination...\n",
    ">\n",
    "> [Fernando Perez](https://twitter.com/fperez_org)"
   ]
  },
  {
   "cell_type": "raw",
   "id": "7c938a2e",
   "metadata": {},
   "source": [
    "Code:\n",
    "\n",
    "> Why, oh why, Javascript??? Wars, famine, planetary destruction... I guess as a species, we deserve this abomination...\n",
    ">\n",
    "> [Fernando Perez](https://twitter.com/fperez_org)"
   ]
  },
  {
   "cell_type": "markdown",
   "id": "daaf8d68",
   "metadata": {},
   "source": [
    "# Horizontal Line"
   ]
  },
  {
   "cell_type": "markdown",
   "id": "acb36eaa",
   "metadata": {},
   "source": [
    "---"
   ]
  },
  {
   "cell_type": "raw",
   "id": "06c92476",
   "metadata": {},
   "source": [
    "Code:\n",
    "\n",
    "---"
   ]
  },
  {
   "cell_type": "markdown",
   "id": "d12a224f",
   "metadata": {},
   "source": [
    "# Table"
   ]
  },
  {
   "cell_type": "markdown",
   "id": "3b74c6a6",
   "metadata": {},
   "source": [
    "| Tables        | Are           | Cool  |\n",
    "| ------------- |:-------------:| -----:|\n",
    "| col 3 is      | right-aligned |  1600 |\n",
    "| col 2 is      | centered      |    12 |\n",
    "| zebra stripes | are neat      |     1 |"
   ]
  },
  {
   "cell_type": "raw",
   "id": "21219ded",
   "metadata": {},
   "source": [
    "Code:\n",
    "\n",
    "| Tables        | Are           | Cool  |\n",
    "| ------------- |:-------------:| -----:|\n",
    "| col 3 is      | right-aligned |  1600 |\n",
    "| col 2 is      | centered      |    12 |\n",
    "| zebra stripes | are neat      |     1 |"
   ]
  },
  {
   "cell_type": "markdown",
   "id": "9cca6c7e",
   "metadata": {},
   "source": [
    "# HTML"
   ]
  },
  {
   "cell_type": "markdown",
   "id": "553cc1a4",
   "metadata": {},
   "source": [
    "<b>You</b> can <i>render</i> almost any <span style=\"color:red;\">HTML</span> code you <u>like</u>."
   ]
  },
  {
   "cell_type": "raw",
   "id": "1c7b1383",
   "metadata": {},
   "source": [
    "Code:\n",
    "\n",
    "<b>You</b> can <i>render</i> almost any <span style=\"color:red;\">HTML</span> code you <u>like</u>."
   ]
  },
  {
   "cell_type": "markdown",
   "id": "b549d600",
   "metadata": {},
   "source": [
    "# Code\n",
    "You can add in line code like this import numpy as np\n",
    "\n",
    "Or block code:"
   ]
  },
  {
   "cell_type": "markdown",
   "id": "934eb7ef",
   "metadata": {},
   "source": [
    "Python Code:\n",
    "```python\n",
    "x = 5\n",
    "print \"%.2f\" % x\n",
    "```\n",
    "\n",
    "Java Script Code:\n",
    "```javascript\n",
    "x = 5\n",
    "alert(x);\n",
    "```"
   ]
  },
  {
   "cell_type": "raw",
   "id": "2bb91ba3",
   "metadata": {},
   "source": [
    "Code:\n",
    "\n",
    "Python Code:\n",
    "```python\n",
    "x = 5\n",
    "print \"%.2f\" % x\n",
    "```\n",
    "\n",
    "Java Script Code:\n",
    "```javascript\n",
    "x = 5\n",
    "alert(x);\n",
    "```"
   ]
  }
 ],
 "metadata": {
  "kernelspec": {
   "display_name": "Python 3 (ipykernel)",
   "language": "python",
   "name": "python3"
  },
  "language_info": {
   "codemirror_mode": {
    "name": "ipython",
    "version": 3
   },
   "file_extension": ".py",
   "mimetype": "text/x-python",
   "name": "python",
   "nbconvert_exporter": "python",
   "pygments_lexer": "ipython3",
   "version": "3.10.7"
  }
 },
 "nbformat": 4,
 "nbformat_minor": 5
}
