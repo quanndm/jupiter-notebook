{
 "cells": [
  {
   "cell_type": "markdown",
   "id": "a14f5f30",
   "metadata": {},
   "source": [
    "# LaTeX\n",
    "*References:*\n",
    "\n",
    "- [LaTeX Wiki](https://en.wikibooks.org/wiki/LaTeX/Mathematics)\n",
    "- [Duke University, Department of Statistical Science](https://stat.duke.edu/resources/computing/latex)\n",
    "- [Equation Sheet](http://www.equationsheet.com/)\n",
    "\n",
    "LaTeX is a large typeset system for scientific documentation which symbols for mathematics, statistics, physics, quantum mechanics, and computer science. It is beyond the scope of this tutorial to cover everything, but we will go over the basics of writing high quality mathematical equations using LaTeX."
   ]
  },
  {
   "cell_type": "markdown",
   "id": "acd9d464",
   "metadata": {},
   "source": [
    "You can use LaTeX in line by like this $y = x^2$ or in block like this $$y = x^2$$"
   ]
  },
  {
   "cell_type": "raw",
   "id": "8ef51fed",
   "metadata": {},
   "source": [
    "Code:\n",
    "\n",
    "You can use LaTeX in line by like this $y = x^2$ or in block like this $$y = x^2$$"
   ]
  },
  {
   "cell_type": "markdown",
   "id": "9a2b041e",
   "metadata": {},
   "source": [
    "# Operators"
   ]
  },
  {
   "cell_type": "markdown",
   "id": "14a05336",
   "metadata": {},
   "source": [
    "- Add:\n",
    " - $x + y$\n",
    "- Subtract:\n",
    " - $x - y$\n",
    "- Multiply\n",
    " - $x * y$\n",
    " - $x \\times y$ \n",
    " - $x . y$ \n",
    "- Divide\n",
    " - $x / y$\n",
    " - $x \\div y$\n",
    " - $\\frac{x}{y}$"
   ]
  },
  {
   "cell_type": "raw",
   "id": "cfe33e5a",
   "metadata": {},
   "source": [
    "Code:\n",
    "\n",
    "- Add:\n",
    " - $x + y$\n",
    "- Subtract:\n",
    " - $x - y$\n",
    "- Multiply\n",
    " - $x * y$\n",
    " - $x \\times y$ \n",
    " - $x . y$ \n",
    "- Divide\n",
    " - $x / y$\n",
    " - $x \\div y$\n",
    " - $\\frac{x}{y}$"
   ]
  },
  {
   "cell_type": "markdown",
   "id": "dfe85cd6",
   "metadata": {},
   "source": [
    "# Relations"
   ]
  },
  {
   "cell_type": "markdown",
   "id": "d2b5dd17",
   "metadata": {},
   "source": [
    "- $\\pi \\approx 3.14159$\n",
    "- ${1 \\over 0} \\neq \\inf$\n",
    "- $0 < x > 1$\n",
    "- $0 \\leq x \\geq 1$"
   ]
  },
  {
   "cell_type": "raw",
   "id": "f05f1c83",
   "metadata": {},
   "source": [
    "Code:\n",
    "\n",
    "- $\\pi \\approx 3.14159$\n",
    "- ${1 \\over 0} \\neq \\inf$\n",
    "- $0 < x > 1$\n",
    "- $0 \\leq x \\geq 1$\n"
   ]
  },
  {
   "cell_type": "markdown",
   "id": "b5de0961",
   "metadata": {},
   "source": [
    "# Fractions"
   ]
  },
  {
   "cell_type": "markdown",
   "id": "18a26bdc",
   "metadata": {},
   "source": [
    "- $^1/_2$\n",
    "- $\\frac{1}{2x}$\n",
    "- ${3 \\over 4}$"
   ]
  },
  {
   "cell_type": "raw",
   "id": "5d32c729",
   "metadata": {},
   "source": [
    "Code:\n",
    "\n",
    "- $^1/_2$\n",
    "- $\\frac{1}{2x}$\n",
    "- ${3 \\over 4}$\n"
   ]
  },
  {
   "cell_type": "markdown",
   "id": "72d61534",
   "metadata": {},
   "source": [
    "# Greek Alphabet"
   ]
  },
  {
   "cell_type": "markdown",
   "id": "829b7634",
   "metadata": {},
   "source": [
    "| Small Letter            | Capical Letter         | Alervative                   |\n",
    "| ----------------------- | ---------------------- | ---------------------------- |\n",
    "| $\\alpha$   `\\alpha`     | $A$ `A`                |                              |\n",
    "| $\\beta$   `\\beta`       | $B$ `B`                |                              |\n",
    "| $\\gamma$   `\\gamma`     | $\\Gamma$ `\\Gamma`      |                              |\n",
    "| $\\delta$   `\\delta`     | $\\Delta$ `\\Delta`      |                              |\n",
    "| $\\epsilon$ `\\epsilon`   | $E$ `E`                | $\\varepsilon$ `\\varepsilon`  |\n",
    "| $\\zeta$   `\\zeta`       | $Z$ `Z`                |                              |\n",
    "| $\\eta$   `\\eta`         | $H$ `H`                |                              |\n",
    "| $\\theta$ `\\theta`       | $\\Theta$ `\\Theta`      | $\\vartheta$ `\\vartheta`      |\n",
    "| $\\iota$   `\\zeta`       | $I$ `I`                |                              |\n",
    "| $\\kappa$ `\\kappa`       | $K$ `K`                | $\\varkappa$ `\\varkappa`      |\n",
    "| $\\lambda$   `\\lambda`   | $\\Lambda$ `\\Lambda`    |                              |\n",
    "| $\\mu$   `\\mu`           | $M$ `M`                |                              |\n",
    "| $\\nu$   `\\nu`           | $N$ `N`                |                              | \n",
    "| $\\xi$   `\\xi`           | $Xi$ `\\Xi`             |                              |\n",
    "| $\\omicron$ `\\omicron`   | $O$ `O`                |                              |\n",
    "| $\\pi$ `\\pi`             | $\\Pi$ `\\Pi`            | $\\varpi$ `\\varpi`            |\n",
    "| $\\rho$ `\\rho`           | $P$ `P`                | $\\varrho$ `\\varrho`          |\n",
    "| $\\sigma$ `\\sigma`       | $\\Sigma$ `\\Sigma`      | $\\varsigma$ `\\varsigma`      |\n",
    "| $\\tau$   `\\tau`         | $T$ `T`                |                              |\n",
    "| $\\upsilon$ `\\upsilon`   | $\\Upsilon$ `\\Upsilon`  |                              |\n",
    "| $\\phi$ `\\phi`           | $\\Phi$ `\\Phi`          | $\\varphi$ `\\varphi`          |\n",
    "| $\\chi$   `\\chi`         | $X$ `X`                |                              |\n",
    "| $\\psi$ `\\psi`           | $\\Psi$ `\\Psi`          |                              |\n",
    "| $\\omega$   `\\omega`     | $\\Omega$ `\\Omega`      |                              |"
   ]
  },
  {
   "cell_type": "raw",
   "id": "ce304da2",
   "metadata": {},
   "source": [
    "| Small Letter            | Capical Letter         | Alervative                   |\n",
    "| ----------------------- | ---------------------- | ---------------------------- |\n",
    "| $\\alpha$   `\\alpha`     | $A$ `A`                |                              |\n",
    "| $\\beta$   `\\beta`       | $B$ `B`                |                              |\n",
    "| $\\gamma$   `\\gamma`     | $\\Gamma$ `\\Gamma`      |                              |\n",
    "| $\\delta$   `\\delta`     | $\\Delta$ `\\Delta`      |                              |\n",
    "| $\\epsilon$ `\\epsilon`   | $E$ `E`                | $\\varepsilon$ `\\varepsilon`  |\n",
    "| $\\zeta$   `\\zeta`       | $Z$ `Z`                |                              |\n",
    "| $\\eta$   `\\eta`         | $H$ `H`                |                              |\n",
    "| $\\theta$ `\\theta`       | $\\Theta$ `\\Theta`      | $\\vartheta$ `\\vartheta`      |\n",
    "| $\\iota$   `\\zeta`       | $I$ `I`                |                              |\n",
    "| $\\kappa$ `\\kappa`       | $K$ `K`                | $\\varkappa$ `\\varkappa`      |\n",
    "| $\\lambda$   `\\lambda`   | $\\Lambda$ `\\Lambda`    |                              |\n",
    "| $\\mu$   `\\mu`           | $M$ `M`                |                              |\n",
    "| $\\nu$   `\\nu`           | $N$ `N`                |                              | \n",
    "| $\\xi$   `\\xi`           | $Xi$ `\\Xi`             |                              |\n",
    "| $\\omicron$ `\\omicron`   | $O$ `O`                |                              |\n",
    "| $\\pi$ `\\pi`             | $\\Pi$ `\\Pi`            | $\\varpi$ `\\varpi`            |\n",
    "| $\\rho$ `\\rho`           | $P$ `P`                | $\\varrho$ `\\varrho`          |\n",
    "| $\\sigma$ `\\sigma`       | $\\Sigma$ `\\Sigma`      | $\\varsigma$ `\\varsigma`      |\n",
    "| $\\tau$   `\\tau`         | $T$ `T`                |                              |\n",
    "| $\\upsilon$ `\\upsilon`   | $\\Upsilon$ `\\Upsilon`  |                              |\n",
    "| $\\phi$ `\\phi`           | $\\Phi$ `\\Phi`          | $\\varphi$ `\\varphi`          |\n",
    "| $\\chi$   `\\chi`         | $X$ `X`                |                              |\n",
    "| $\\psi$ `\\psi`           | $\\Psi$ `\\Psi`          |                              |\n",
    "| $\\omega$   `\\omega`     | $\\Omega$ `\\Omega`      |                              |"
   ]
  },
  {
   "cell_type": "markdown",
   "id": "36c1c22c",
   "metadata": {},
   "source": [
    "# Power & Index\n",
    "You can add power using the carrot `^` symbol. If you have more than one character you have to enclose them in a curly brackets. For index you can use the underscore symbol:"
   ]
  },
  {
   "cell_type": "markdown",
   "id": "6c5a5f19",
   "metadata": {},
   "source": [
    "$$f(x) = x^2 - x^{1 \\over \\pi}$$\n",
    "$$f(X,n) = X_n + X_{n-1}$$"
   ]
  },
  {
   "cell_type": "raw",
   "id": "e40d1081",
   "metadata": {},
   "source": [
    "Code:\n",
    "\n",
    "$$f(x) = x^2 - x^{1 \\over \\pi}$$\n",
    "$$f(X,n) = X_n + X_{n-1}$$"
   ]
  },
  {
   "cell_type": "markdown",
   "id": "64df52d0",
   "metadata": {},
   "source": [
    "# Roots & Log\n",
    "You can express a square root in LaTeX using the `\\sqrt` and to change the level of the root you can use `\\sqrt[n]` where `n` is the level of the root."
   ]
  },
  {
   "cell_type": "markdown",
   "id": "2979795f",
   "metadata": {},
   "source": [
    "$$f(x) = \\sqrt[3]{2x} + \\sqrt{x-2}$$"
   ]
  },
  {
   "cell_type": "raw",
   "id": "592305d1",
   "metadata": {},
   "source": [
    "Code \n",
    "$$f(x) = \\sqrt[3]{2x} + \\sqrt{x-2}$$"
   ]
  },
  {
   "cell_type": "markdown",
   "id": "f0c71a00",
   "metadata": {},
   "source": [
    "To represent a log use `\\log[base]` where `base` is the base of the logarithmic term."
   ]
  },
  {
   "cell_type": "markdown",
   "id": "5385b5fb",
   "metadata": {},
   "source": [
    "$$log[x]x = 1$$"
   ]
  },
  {
   "cell_type": "markdown",
   "id": "41014df4",
   "metadata": {},
   "source": [
    "# Sums & Products\n",
    "You can represent a sum with a sigma using `\\sum\\limits_{a}^{b}` where `a` and `b` are the lower and higher limits of the sum.\n",
    "$$\\sum\\limits_{x=1}^{\\infty} {1 \\over x} = 2$$\n",
    "Also you can represent a product with `\\prod\\limits_{a}^{a}` where `a` and `b` are the lower and higher limits.\n",
    "$$\\prod\\limits_{i=1}^{n} x_i - 1$$"
   ]
  },
  {
   "cell_type": "raw",
   "id": "32875eaf",
   "metadata": {},
   "source": [
    "Code:\n",
    "\n",
    "$$\\sum\\limits_{x=1}^{\\infty} {1 \\over x} = 2$$\n",
    "$$\\prod\\limits_{i=1}^{n} x_i - 1$$"
   ]
  },
  {
   "cell_type": "markdown",
   "id": "503ae4aa",
   "metadata": {},
   "source": [
    "# Statistics\n",
    "To represent basic concepts in statistics about sample space `S`, you can represent a maximum:\n",
    "$$max(S) = \\max\\limits_{i: x_i \\in \\{S\\}} x_i$$\n",
    "In the same way you can get the minimum:\n",
    "$$min (S) = \\min\\limits_{i: x_i \\in \\{S\\}} x_i$$\n",
    "To represent a [binomial coefficient](https://en.wikipedia.org/wiki/Binomial_coefficient) with n choose k, use the following:\n",
    "$$\\frac{n!}{k!(n-k)!} = {n \\choose k}$$"
   ]
  },
  {
   "cell_type": "raw",
   "id": "23df7506",
   "metadata": {},
   "source": [
    "Code:\n",
    "\n",
    "$$max(S) = \\max\\limits_{i: x_i \\in \\{S\\}} x_i$$\n",
    "$$min (S) = \\min\\limits_{i: x_i \\in \\{S\\}} x_i$$\n",
    "$$\\frac{n!}{k!(n-k)!} = {n \\choose k}$$"
   ]
  },
  {
   "cell_type": "markdown",
   "id": "1e976fcb",
   "metadata": {},
   "source": [
    "# Calculus\n",
    "Limits are represented using` \\lim\\limits_{x \\to a}` as `x` approaches `a`.\n",
    "$$\\lim\\limits_{x \\to 0^+} {1 \\over 0} = \\inf$$\n",
    "For integral equations use `\\int\\limits_{a}^{b}` where `a` and `b` are the lower and higher limits.\n",
    "$$\\int\\limits_a^b 2x \\, dx$$"
   ]
  },
  {
   "cell_type": "raw",
   "id": "134e918e",
   "metadata": {},
   "source": [
    "Code:\n",
    "\n",
    "$$\\lim\\limits_{x \\to 0^+} {1 \\over 0} = \\inf$$\n",
    "$$\\int\\limits_a^b 2x \\, dx$$\n"
   ]
  },
  {
   "cell_type": "markdown",
   "id": "658efd1f",
   "metadata": {},
   "source": [
    "# Function definition over periods\n",
    "Defining a function that is calculated differently over a number of period can done using LaTeX. There are a few tricks that we will use to do that:\n",
    "- The large curly bracket `\\left\\{ ... \\right.` Notice it you want to use `(` or `[` you don't have to add a back slash(`\\`). You can also place a right side matching bracket by replacing the `.` after `\\right` like this `.right}`\n",
    "- Array to hold the definitions in place. it has two columns with left alignment. `\\begin{array}{ll} ... \\end{array}`\n",
    "- Line Breaker `\\\\`\n",
    "- Text alignment box `\\mbox{Text}`\n",
    "\n",
    "$$f(x) =\n",
    "\\left\\{\n",
    "    \\begin{array}{ll}\n",
    "        0  & \\mbox{if } x = 0 \\\\\n",
    "        {1 \\over x} & \\mbox{if } x \\neq 0\n",
    "    \\end{array}\n",
    "\\right.$$"
   ]
  },
  {
   "cell_type": "raw",
   "id": "6af98c88",
   "metadata": {},
   "source": [
    "Code:\n",
    "\n",
    "$$f(x) =\n",
    "\\left\\{\n",
    "    \\begin{array}{ll}\n",
    "        0  & \\mbox{if } x = 0 \\\\\n",
    "        {1 \\over x} & \\mbox{if } x \\neq 0\n",
    "    \\end{array}\n",
    "\\right.$$"
   ]
  },
  {
   "cell_type": "raw",
   "id": "7eb88305",
   "metadata": {},
   "source": [
    "Note: If you are planning to show your notebook in NBViewer write your latex code in one line. For example you can write the code above like this:\n",
    "$f(x) =\\left\\{\\begin{array}{ll}0  & \\mbox{if } x = 0 \\\\{1 \\over x} & \\mbox{if } x \\neq 0\\end{array}\\right.$"
   ]
  },
  {
   "cell_type": "markdown",
   "id": "440df325",
   "metadata": {},
   "source": [
    "# Quick Quiz (Normal Distribution)\n",
    "Try to replicate the [Normal Distribution](https://en.wikipedia.org/wiki/Normal_distribution) formula using LaTeX. If you solve it, leave the LaTeX code in the comments below. Don′t cheat.\n",
    "$$P(x,\\sigma,\\mu) = {1 \\over \\sigma\\sqrt{2\\pi}} e^{{-(x - \\mu)^2} /2\\sigma^2}$$\n",
    "$$P(x,\\sigma,\\mu) = \\frac{1}{{\\sigma \\sqrt {2\\pi } }}e^{{-(x - \\mu)^2 } / {2\\sigma ^2}}$$"
   ]
  }
 ],
 "metadata": {
  "kernelspec": {
   "display_name": "Python 3 (ipykernel)",
   "language": "python",
   "name": "python3"
  },
  "language_info": {
   "codemirror_mode": {
    "name": "ipython",
    "version": 3
   },
   "file_extension": ".py",
   "mimetype": "text/x-python",
   "name": "python",
   "nbconvert_exporter": "python",
   "pygments_lexer": "ipython3",
   "version": "3.10.7"
  }
 },
 "nbformat": 4,
 "nbformat_minor": 5
}
