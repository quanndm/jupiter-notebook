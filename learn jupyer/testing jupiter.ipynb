{
 "cells": [
  {
   "cell_type": "code",
   "execution_count": 1,
   "id": "915092a4",
   "metadata": {},
   "outputs": [],
   "source": [
    "x,y = (2,3)"
   ]
  },
  {
   "cell_type": "code",
   "execution_count": 2,
   "id": "25ad2c86",
   "metadata": {},
   "outputs": [
    {
     "data": {
      "text/plain": [
       "2"
      ]
     },
     "execution_count": 2,
     "metadata": {},
     "output_type": "execute_result"
    }
   ],
   "source": [
    "x"
   ]
  },
  {
   "cell_type": "code",
   "execution_count": 4,
   "id": "3447f791",
   "metadata": {},
   "outputs": [
    {
     "data": {
      "text/plain": [
       "3"
      ]
     },
     "execution_count": 4,
     "metadata": {},
     "output_type": "execute_result"
    }
   ],
   "source": [
    "y"
   ]
  },
  {
   "cell_type": "code",
   "execution_count": 5,
   "id": "3ece16bb",
   "metadata": {},
   "outputs": [],
   "source": [
    "#interger\n",
    "x = 1"
   ]
  },
  {
   "cell_type": "code",
   "execution_count": 6,
   "id": "c8be3748",
   "metadata": {},
   "outputs": [
    {
     "data": {
      "text/plain": [
       "int"
      ]
     },
     "execution_count": 6,
     "metadata": {},
     "output_type": "execute_result"
    }
   ],
   "source": [
    "type(x)"
   ]
  },
  {
   "cell_type": "code",
   "execution_count": 8,
   "id": "d1b3da7f",
   "metadata": {},
   "outputs": [],
   "source": [
    "y = 4.0"
   ]
  },
  {
   "cell_type": "code",
   "execution_count": 9,
   "id": "84e5667a",
   "metadata": {},
   "outputs": [
    {
     "data": {
      "text/plain": [
       "float"
      ]
     },
     "execution_count": 9,
     "metadata": {},
     "output_type": "execute_result"
    }
   ],
   "source": [
    "type(y)"
   ]
  },
  {
   "cell_type": "code",
   "execution_count": 10,
   "id": "6eb6b996",
   "metadata": {},
   "outputs": [],
   "source": [
    "x = \"I am a data science\""
   ]
  },
  {
   "cell_type": "code",
   "execution_count": 11,
   "id": "705105ef",
   "metadata": {},
   "outputs": [
    {
     "data": {
      "text/plain": [
       "19"
      ]
     },
     "execution_count": 11,
     "metadata": {},
     "output_type": "execute_result"
    }
   ],
   "source": [
    "len(x)"
   ]
  },
  {
   "cell_type": "code",
   "execution_count": 12,
   "id": "249754e8",
   "metadata": {},
   "outputs": [],
   "source": [
    "a = \"I am interested in learning python\""
   ]
  },
  {
   "cell_type": "code",
   "execution_count": 13,
   "id": "dd1dd83b",
   "metadata": {},
   "outputs": [
    {
     "data": {
      "text/plain": [
       "'i am interested in learning python'"
      ]
     },
     "execution_count": 13,
     "metadata": {},
     "output_type": "execute_result"
    }
   ],
   "source": [
    "a.lower()"
   ]
  },
  {
   "cell_type": "code",
   "execution_count": 14,
   "id": "dac1ae88",
   "metadata": {},
   "outputs": [
    {
     "data": {
      "text/plain": [
       "'I AM INTERESTED IN LEARNING PYTHON'"
      ]
     },
     "execution_count": 14,
     "metadata": {},
     "output_type": "execute_result"
    }
   ],
   "source": [
    "a.upper()"
   ]
  },
  {
   "cell_type": "code",
   "execution_count": 17,
   "id": "929b949f",
   "metadata": {},
   "outputs": [
    {
     "data": {
      "text/plain": [
       "'I am interested in learning python'"
      ]
     },
     "execution_count": 17,
     "metadata": {},
     "output_type": "execute_result"
    }
   ],
   "source": [
    "a.replace(\"P\",\"p\")"
   ]
  },
  {
   "cell_type": "code",
   "execution_count": 18,
   "id": "eaaeba59",
   "metadata": {},
   "outputs": [
    {
     "data": {
      "text/plain": [
       "'I am interested in learning python'"
      ]
     },
     "execution_count": 18,
     "metadata": {},
     "output_type": "execute_result"
    }
   ],
   "source": [
    "a.replace(\"P\",\"z\")"
   ]
  },
  {
   "cell_type": "code",
   "execution_count": 19,
   "id": "0dba9dfd",
   "metadata": {},
   "outputs": [
    {
     "data": {
      "text/plain": [
       "'I am interested in learning zython'"
      ]
     },
     "execution_count": 19,
     "metadata": {},
     "output_type": "execute_result"
    }
   ],
   "source": [
    "a.replace(\"p\",\"z\")"
   ]
  },
  {
   "cell_type": "code",
   "execution_count": 21,
   "id": "77238cc4",
   "metadata": {
    "scrolled": true
   },
   "outputs": [
    {
     "data": {
      "text/plain": [
       "'I am interested in learning programing language'"
      ]
     },
     "execution_count": 21,
     "metadata": {},
     "output_type": "execute_result"
    }
   ],
   "source": [
    "a.replace(\"python\",\"programing language\")"
   ]
  },
  {
   "cell_type": "code",
   "execution_count": 22,
   "id": "ee269966",
   "metadata": {},
   "outputs": [
    {
     "data": {
      "text/plain": [
       "['I', 'am', 'interested', 'in', 'learning', 'python']"
      ]
     },
     "execution_count": 22,
     "metadata": {},
     "output_type": "execute_result"
    }
   ],
   "source": [
    "a.split()"
   ]
  },
  {
   "cell_type": "code",
   "execution_count": 24,
   "id": "01db83dc",
   "metadata": {},
   "outputs": [
    {
     "data": {
      "text/plain": [
       "'am'"
      ]
     },
     "execution_count": 24,
     "metadata": {},
     "output_type": "execute_result"
    }
   ],
   "source": [
    "a[2:4]"
   ]
  },
  {
   "cell_type": "code",
   "execution_count": null,
   "id": "a2af0fc6",
   "metadata": {},
   "outputs": [],
   "source": []
  }
 ],
 "metadata": {
  "kernelspec": {
   "display_name": "Python 3 (ipykernel)",
   "language": "python",
   "name": "python3"
  },
  "language_info": {
   "codemirror_mode": {
    "name": "ipython",
    "version": 3
   },
   "file_extension": ".py",
   "mimetype": "text/x-python",
   "name": "python",
   "nbconvert_exporter": "python",
   "pygments_lexer": "ipython3",
   "version": "3.10.7"
  }
 },
 "nbformat": 4,
 "nbformat_minor": 5
}
