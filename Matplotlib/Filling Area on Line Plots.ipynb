{
 "cells": [
  {
   "cell_type": "code",
   "execution_count": 1,
   "id": "f2126b9c",
   "metadata": {},
   "outputs": [],
   "source": [
    "import pandas as pd\n",
    "from matplotlib import pyplot as plt"
   ]
  },
  {
   "cell_type": "code",
   "execution_count": 3,
   "id": "40b63843",
   "metadata": {},
   "outputs": [],
   "source": [
    "data = pd.read_csv('data1.csv')\n",
    "ages = data['Age']\n",
    "dev_salaries = data['All_Devs']\n",
    "py_salaries = data['Python']\n",
    "js_salaries = data['JavaScript']"
   ]
  },
  {
   "cell_type": "code",
   "execution_count": null,
   "id": "2f5a8aa6",
   "metadata": {},
   "outputs": [],
   "source": []
  }
 ],
 "metadata": {
  "kernelspec": {
   "display_name": "Python 3 (ipykernel)",
   "language": "python",
   "name": "python3"
  },
  "language_info": {
   "codemirror_mode": {
    "name": "ipython",
    "version": 3
   },
   "file_extension": ".py",
   "mimetype": "text/x-python",
   "name": "python",
   "nbconvert_exporter": "python",
   "pygments_lexer": "ipython3",
   "version": "3.10.7"
  }
 },
 "nbformat": 4,
 "nbformat_minor": 5
}
