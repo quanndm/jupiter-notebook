{
 "cells": [
  {
   "cell_type": "code",
   "execution_count": 15,
   "id": "19cc664a",
   "metadata": {},
   "outputs": [],
   "source": [
    "def merge1(list_1, list_2):\n",
    "    sorted_list = []\n",
    "    size_1 = len(list_1)\n",
    "    size_2 = len(list_2)\n",
    "    i = j = 0\n",
    "    while i < size_1 and j < size_2:\n",
    "        if list_1[i] <= list_2[j]:\n",
    "            sorted_list.append(list_1[i])\n",
    "            i += 1\n",
    "        else:\n",
    "            sorted_list.append(list_2[j])\n",
    "            j += 1\n",
    "    while i < size_1:\n",
    "        sorted_list.append(list_1[i])\n",
    "        i += 1\n",
    "    while j < size_2:\n",
    "        sorted_list.append(list_2[j])\n",
    "        j += 1\n",
    "    return sorted_list"
   ]
  },
  {
   "cell_type": "code",
   "execution_count": 16,
   "id": "997b38f2",
   "metadata": {},
   "outputs": [],
   "source": [
    "def merge_sort1(number_list):\n",
    "    if len(number_list) <= 1:\n",
    "        return number_list\n",
    "    mid = len(number_list) //2\n",
    "    left = number_list[:mid]\n",
    "    right = number_list[mid:]\n",
    "    \n",
    "    left = merge_sort(left)\n",
    "    right = merge_sort(right)\n",
    "    \n",
    "    return merge(left, right)"
   ]
  },
  {
   "cell_type": "code",
   "execution_count": 22,
   "id": "53e15f4e",
   "metadata": {},
   "outputs": [],
   "source": [
    "def merge(list1,list2,arr):\n",
    "    size1 = len(list1)\n",
    "    size2 = len(list2)\n",
    "    i = j = k = 0\n",
    "    \n",
    "    while i < size1 and j < size2:\n",
    "        if list1[i] <= list2[j]:\n",
    "            arr[k] = list1[i]\n",
    "            i+=1\n",
    "        else:\n",
    "            arr[k] = list2[j]\n",
    "            j+=1\n",
    "        k += 1\n",
    "    while i < size1:\n",
    "        arr[k] = list1[i]\n",
    "        i += 1\n",
    "        k += 1\n",
    "    while j < size2:\n",
    "        arr[k] = list2[j]\n",
    "        j += 1    \n",
    "        k += 1"
   ]
  },
  {
   "cell_type": "code",
   "execution_count": 25,
   "id": "e821756c",
   "metadata": {},
   "outputs": [],
   "source": [
    "def merge_sort(arr):\n",
    "    if len(arr) <= 1:\n",
    "        return\n",
    "    mid = len(arr) // 2\n",
    "    left = arr[:mid]\n",
    "    right = arr[mid:]\n",
    "    \n",
    "    merge_sort(left)\n",
    "    merge_sort(right)\n",
    "    merge(left,right,arr)"
   ]
  },
  {
   "cell_type": "code",
   "execution_count": 27,
   "id": "1071a0d2",
   "metadata": {},
   "outputs": [
    {
     "data": {
      "text/plain": [
       "[3, 7, 8, 10, 15, 25, 79, 98]"
      ]
     },
     "execution_count": 27,
     "metadata": {},
     "output_type": "execute_result"
    }
   ],
   "source": [
    "number_list = [10, 3, 15, 7, 8, 25, 98, 79]\n",
    "#merge_sort1(number_list) by val\n",
    "merge_sort(number_list) # by ref\n",
    "number_list"
   ]
  }
 ],
 "metadata": {
  "kernelspec": {
   "display_name": "Python 3 (ipykernel)",
   "language": "python",
   "name": "python3"
  },
  "language_info": {
   "codemirror_mode": {
    "name": "ipython",
    "version": 3
   },
   "file_extension": ".py",
   "mimetype": "text/x-python",
   "name": "python",
   "nbconvert_exporter": "python",
   "pygments_lexer": "ipython3",
   "version": "3.10.8"
  }
 },
 "nbformat": 4,
 "nbformat_minor": 5
}
