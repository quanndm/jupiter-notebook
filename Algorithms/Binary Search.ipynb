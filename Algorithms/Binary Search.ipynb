{
 "cells": [
  {
   "cell_type": "code",
   "execution_count": 14,
   "id": "49636bf3",
   "metadata": {},
   "outputs": [],
   "source": [
    "import time\n",
    "def time_it(func):\n",
    "    def wrapper(*args, **kwargs):\n",
    "        start = time.time()\n",
    "        result = func(*args, **kwargs)\n",
    "        end = time.time()\n",
    "        print(func.__name__ +\" took \"+str((end-start)*1000) + \" mil sec\")\n",
    "        return result\n",
    "    return wrapper"
   ]
  },
  {
   "cell_type": "code",
   "execution_count": 15,
   "id": "de38b39c",
   "metadata": {},
   "outputs": [],
   "source": [
    "@time_it\n",
    "def linear_search(number_list, value):\n",
    "    for index, element in enumerate(number_list):\n",
    "        if element == value:\n",
    "            return index\n",
    "    return -1"
   ]
  },
  {
   "cell_type": "code",
   "execution_count": 16,
   "id": "624b5395",
   "metadata": {},
   "outputs": [],
   "source": [
    "@time_it\n",
    "def binary_search(number_list, value):\n",
    "    left_index = 0\n",
    "    right_index = len(number_list) - 1\n",
    "    mid_index = 0\n",
    "    while left_index <= right_index:\n",
    "        mid_index = (right_index + left_index) // 2\n",
    "        mid_number = number_list[mid_index]\n",
    "        if mid_number == value:\n",
    "            return mid_index\n",
    "        if mid_number < value:\n",
    "            left_index = mid_index + 1\n",
    "        else:\n",
    "            right_index = mid_index - 1\n",
    "    return -1"
   ]
  },
  {
   "cell_type": "code",
   "execution_count": 28,
   "id": "93b9bc10",
   "metadata": {},
   "outputs": [],
   "source": [
    "@time_it\n",
    "def binary_search_recursive(number_list, value, left_index, right_index):\n",
    "    if left_index > right_index:\n",
    "        return -1\n",
    "    mid_index = (right_index + left_index) // 2\n",
    "    mid_number = number_list[mid_index]\n",
    "    if mid_number < value:\n",
    "        return binary_search_recursive(number_list, value, mid_index + 1, right_index)\n",
    "    elif mid_number > value:\n",
    "        return binary_search_recursive(number_list, value, left_index,  mid_index - 1)\n",
    "    elif mid_number == value:\n",
    "        return mid_index\n",
    "    else:\n",
    "        return -1"
   ]
  },
  {
   "cell_type": "code",
   "execution_count": 45,
   "id": "ccc83721",
   "metadata": {},
   "outputs": [],
   "source": [
    "@time_it\n",
    "def find_all_occur(number_list, value):\n",
    "    index = binary_search(number_list, value) #first index\n",
    "    indices = [index]\n",
    "    \n",
    "    # find in left\n",
    "    i = index - 1\n",
    "    while i >= 0:\n",
    "        if number_list[i] == value:\n",
    "            indices.append(i)\n",
    "        i -= 1\n",
    "    # find in right\n",
    "    i = index + 1\n",
    "    while i < len(number_list):\n",
    "        if number_list[i] == value:\n",
    "            indices.append(i)\n",
    "        i += 1\n",
    "    return sorted(indices)"
   ]
  },
  {
   "cell_type": "code",
   "execution_count": 34,
   "id": "f00009ec",
   "metadata": {},
   "outputs": [],
   "source": [
    "number_list = [i for i in range(100000000)]\n",
    "number_to_find = 100000001"
   ]
  },
  {
   "cell_type": "code",
   "execution_count": 25,
   "id": "2e5edd57",
   "metadata": {},
   "outputs": [
    {
     "name": "stdout",
     "output_type": "stream",
     "text": [
      "linear_search took 16.283273696899414 mil sec\n",
      "100000\n"
     ]
    }
   ],
   "source": [
    "index_find_by_linear_search = linear_search(number_list, number_to_find)\n",
    "print(index_find_by_linear_search)"
   ]
  },
  {
   "cell_type": "code",
   "execution_count": 35,
   "id": "0d307d40",
   "metadata": {},
   "outputs": [
    {
     "name": "stdout",
     "output_type": "stream",
     "text": [
      "binary_search took 0.0 mil sec\n",
      "-1\n"
     ]
    }
   ],
   "source": [
    "index_find_by_binary_search = binary_search(number_list, number_to_find)\n",
    "print(index_find_by_binary_search)"
   ]
  },
  {
   "cell_type": "code",
   "execution_count": 31,
   "id": "e6733f36",
   "metadata": {},
   "outputs": [
    {
     "name": "stdout",
     "output_type": "stream",
     "text": [
      "binary_search_recursive took 0.0 mil sec\n",
      "binary_search_recursive took 0.0 mil sec\n",
      "binary_search_recursive took 0.0 mil sec\n",
      "binary_search_recursive took 0.0 mil sec\n",
      "binary_search_recursive took 0.0 mil sec\n",
      "-1\n"
     ]
    }
   ],
   "source": [
    "# number_list = [12,15,17,19,21,24,45,67]\n",
    "number_list = [12,15,17,19,21,24,45,67]\n",
    "number_to_find = 66\n",
    "index_find_by_binary_search_Re = binary_search_recursive(number_list, number_to_find, 0, len(number_list) -1)\n",
    "print(index_find_by_binary_search_Re)"
   ]
  },
  {
   "cell_type": "code",
   "execution_count": 46,
   "id": "e2c26e7d",
   "metadata": {},
   "outputs": [
    {
     "name": "stdout",
     "output_type": "stream",
     "text": [
      "binary_search took 0.0 mil sec\n",
      "find_all_occur took 0.0 mil sec\n"
     ]
    },
    {
     "data": {
      "text/plain": [
       "[5, 6, 7]"
      ]
     },
     "execution_count": 46,
     "metadata": {},
     "output_type": "execute_result"
    }
   ],
   "source": [
    "numbers = [1,4,6,9,11,15,15,15,17,21,34,34,56]\n",
    "number_to_find = 15\n",
    "find_all_occur(numbers, number_to_find)"
   ]
  }
 ],
 "metadata": {
  "kernelspec": {
   "display_name": "Python 3 (ipykernel)",
   "language": "python",
   "name": "python3"
  },
  "language_info": {
   "codemirror_mode": {
    "name": "ipython",
    "version": 3
   },
   "file_extension": ".py",
   "mimetype": "text/x-python",
   "name": "python",
   "nbconvert_exporter": "python",
   "pygments_lexer": "ipython3",
   "version": "3.10.8"
  }
 },
 "nbformat": 4,
 "nbformat_minor": 5
}
