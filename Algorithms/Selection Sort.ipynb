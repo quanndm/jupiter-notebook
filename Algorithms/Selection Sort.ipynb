{
 "cells": [
  {
   "cell_type": "code",
   "execution_count": 10,
   "id": "4bb928cc",
   "metadata": {},
   "outputs": [],
   "source": [
    "def selection_sort(number_list):\n",
    "    size = len(number_list)\n",
    "    for i in range(size -1):\n",
    "        min_index = i\n",
    "        for j in range(i+1, size):\n",
    "            if number_list[min_index] > number_list[j]:\n",
    "                min_index = j\n",
    "        if i != min_index:\n",
    "            number_list[i],number_list[min_index] = number_list[min_index],number_list[i]"
   ]
  },
  {
   "cell_type": "code",
   "execution_count": 11,
   "id": "d6656751",
   "metadata": {},
   "outputs": [
    {
     "data": {
      "text/plain": [
       "[1, 2, 3, 4, 5, 6, 7, 8, 9]"
      ]
     },
     "execution_count": 11,
     "metadata": {},
     "output_type": "execute_result"
    }
   ],
   "source": [
    "number_list = [9,5,6,7,8,4,3,1,2]\n",
    "selection_sort(number_list)\n",
    "number_list"
   ]
  }
 ],
 "metadata": {
  "kernelspec": {
   "display_name": "Python 3 (ipykernel)",
   "language": "python",
   "name": "python3"
  },
  "language_info": {
   "codemirror_mode": {
    "name": "ipython",
    "version": 3
   },
   "file_extension": ".py",
   "mimetype": "text/x-python",
   "name": "python",
   "nbconvert_exporter": "python",
   "pygments_lexer": "ipython3",
   "version": "3.10.8"
  }
 },
 "nbformat": 4,
 "nbformat_minor": 5
}
