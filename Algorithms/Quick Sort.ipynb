{
 "cells": [
  {
   "cell_type": "code",
   "execution_count": 6,
   "id": "3445f2ba",
   "metadata": {},
   "outputs": [],
   "source": [
    "def swap(a,b,arr):\n",
    "    if a!=b:\n",
    "        arr[a],arr[b] = arr[b],arr[a]"
   ]
  },
  {
   "cell_type": "code",
   "execution_count": 12,
   "id": "1dd81e30",
   "metadata": {},
   "outputs": [],
   "source": [
    "def partition(arr,start,end):\n",
    "    pivot_index = start\n",
    "    pivot = arr[pivot_index]\n",
    "    \n",
    "    while start < end:\n",
    "        while start < len(arr) and arr[start] <= pivot:\n",
    "            start += 1\n",
    "        while arr[end] > pivot:\n",
    "            end -= 1\n",
    "\n",
    "        if start < end:\n",
    "            swap(start,end,arr)\n",
    "        \n",
    "    swap(pivot_index,end, arr)\n",
    "    return end"
   ]
  },
  {
   "cell_type": "code",
   "execution_count": 13,
   "id": "1a85b8fc",
   "metadata": {},
   "outputs": [],
   "source": [
    "def quick_sort(arr,start,end):\n",
    "    if start < end:\n",
    "        pivot = partition(arr, start, end)\n",
    "        quick_sort(arr, start, pivot - 1)\n",
    "        quick_sort(arr, pivot + 1, end)"
   ]
  },
  {
   "cell_type": "code",
   "execution_count": 14,
   "id": "9a2eb010",
   "metadata": {},
   "outputs": [
    {
     "data": {
      "text/plain": [
       "[2, 7, 9, 11, 15, 28, 29]"
      ]
     },
     "execution_count": 14,
     "metadata": {},
     "output_type": "execute_result"
    }
   ],
   "source": [
    "number_list = [11, 9, 29, 7, 2, 15, 28]\n",
    "quick_sort(number_list,0,len(number_list)-1)\n",
    "number_list"
   ]
  }
 ],
 "metadata": {
  "kernelspec": {
   "display_name": "Python 3 (ipykernel)",
   "language": "python",
   "name": "python3"
  },
  "language_info": {
   "codemirror_mode": {
    "name": "ipython",
    "version": 3
   },
   "file_extension": ".py",
   "mimetype": "text/x-python",
   "name": "python",
   "nbconvert_exporter": "python",
   "pygments_lexer": "ipython3",
   "version": "3.10.8"
  }
 },
 "nbformat": 4,
 "nbformat_minor": 5
}
