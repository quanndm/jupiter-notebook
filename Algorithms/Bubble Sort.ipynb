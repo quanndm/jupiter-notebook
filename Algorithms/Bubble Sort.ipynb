{
 "cells": [
  {
   "cell_type": "code",
   "execution_count": 1,
   "id": "9b81a75a",
   "metadata": {},
   "outputs": [],
   "source": [
    "def bubble_sort(number_list):\n",
    "    for i in range(len(number_list)):\n",
    "        swapped = False\n",
    "        for j in range(len(number_list) - i - 1):\n",
    "            if number_list[j] > number_list[j+1]:\n",
    "                number_list[j], number_list[j+1] = number_list[j+1], number_list[j]\n",
    "                swapped = True\n",
    "        if not swapped:\n",
    "            break"
   ]
  },
  {
   "cell_type": "code",
   "execution_count": 2,
   "id": "24e7536a",
   "metadata": {},
   "outputs": [
    {
     "data": {
      "text/plain": [
       "[1, 2, 3, 4, 5, 6, 7, 8, 9]"
      ]
     },
     "execution_count": 2,
     "metadata": {},
     "output_type": "execute_result"
    }
   ],
   "source": [
    "number_list = [5, 9, 7, 2, 1, 4, 6, 8, 3] \n",
    "bubble_sort(number_list)\n",
    "number_list"
   ]
  }
 ],
 "metadata": {
  "kernelspec": {
   "display_name": "Python 3 (ipykernel)",
   "language": "python",
   "name": "python3"
  },
  "language_info": {
   "codemirror_mode": {
    "name": "ipython",
    "version": 3
   },
   "file_extension": ".py",
   "mimetype": "text/x-python",
   "name": "python",
   "nbconvert_exporter": "python",
   "pygments_lexer": "ipython3",
   "version": "3.10.8"
  }
 },
 "nbformat": 4,
 "nbformat_minor": 5
}
