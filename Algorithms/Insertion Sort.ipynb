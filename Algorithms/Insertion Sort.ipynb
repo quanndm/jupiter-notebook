{
 "cells": [
  {
   "cell_type": "code",
   "execution_count": 1,
   "id": "b6eb6e6e",
   "metadata": {},
   "outputs": [],
   "source": [
    "def insertion_sort(number_list):\n",
    "    for i in range(1, len(number_list)):\n",
    "        anchor = number_list[i]\n",
    "        j = i - 1\n",
    "        while j >= 0 and anchor < number_list[j]:\n",
    "            number_list[j+1] = number_list[j]\n",
    "            j -= 1\n",
    "        number_list[j+1] = anchor"
   ]
  },
  {
   "cell_type": "code",
   "execution_count": 2,
   "id": "477eaddb",
   "metadata": {},
   "outputs": [
    {
     "data": {
      "text/plain": [
       "[1, 2, 3, 4, 5, 6, 7, 8, 9]"
      ]
     },
     "execution_count": 2,
     "metadata": {},
     "output_type": "execute_result"
    }
   ],
   "source": [
    "number_list = [9,5,6,7,8,4,2,1,3]\n",
    "insertion_sort(number_list)\n",
    "number_list"
   ]
  }
 ],
 "metadata": {
  "kernelspec": {
   "display_name": "Python 3 (ipykernel)",
   "language": "python",
   "name": "python3"
  },
  "language_info": {
   "codemirror_mode": {
    "name": "ipython",
    "version": 3
   },
   "file_extension": ".py",
   "mimetype": "text/x-python",
   "name": "python",
   "nbconvert_exporter": "python",
   "pygments_lexer": "ipython3",
   "version": "3.10.8"
  }
 },
 "nbformat": 4,
 "nbformat_minor": 5
}
