{
 "cells": [
  {
   "cell_type": "code",
   "execution_count": 1,
   "id": "05b67fc3",
   "metadata": {},
   "outputs": [],
   "source": [
    "import numpy as np"
   ]
  },
  {
   "cell_type": "code",
   "execution_count": 12,
   "id": "0f690ec7",
   "metadata": {},
   "outputs": [
    {
     "name": "stdout",
     "output_type": "stream",
     "text": [
      "Min:  1 5\n",
      "Max:  9 3\n",
      "Sqrt:  [1.41421356 2.64575131 2.82842712 3.         1.73205081 1.\n",
      " 2.44948974 2.         2.23606798]\n",
      "Sin:  [ 0.90929743  0.6569866   0.98935825  0.41211849  0.14112001  0.84147098\n",
      " -0.2794155  -0.7568025  -0.95892427]\n",
      "Cos:  [-0.41614684  0.75390225 -0.14550003 -0.91113026 -0.9899925   0.54030231\n",
      "  0.96017029 -0.65364362  0.28366219]\n",
      "Cumsum:  [ 2  9 17 26 29 30 36 40 45]\n"
     ]
    }
   ],
   "source": [
    "var = np.array([2,7,8,9,3,1,6,4,5])\n",
    "print(\"Min: \", np.min(var), np.argmin(var))\n",
    "print(\"Max: \", np.max(var), np.argmax(var))\n",
    "print(\"Sqrt: \", np.sqrt(var))\n",
    "print(\"Sin: \", np.sin(var))\n",
    "print(\"Cos: \", np.cos(var))\n",
    "print(\"Cumsum: \", np.cumsum(var))"
   ]
  },
  {
   "cell_type": "code",
   "execution_count": 9,
   "id": "f8ef9704",
   "metadata": {},
   "outputs": [
    {
     "name": "stdout",
     "output_type": "stream",
     "text": [
      "Min:  [2 1]\n"
     ]
    }
   ],
   "source": [
    "var = np.array([[2,3,8,4],[1,7,5,9]])\n",
    "print(\"Min: \",np.min(var, axis=1))"
   ]
  }
 ],
 "metadata": {
  "kernelspec": {
   "display_name": "Python 3 (ipykernel)",
   "language": "python",
   "name": "python3"
  },
  "language_info": {
   "codemirror_mode": {
    "name": "ipython",
    "version": 3
   },
   "file_extension": ".py",
   "mimetype": "text/x-python",
   "name": "python",
   "nbconvert_exporter": "python",
   "pygments_lexer": "ipython3",
   "version": "3.10.7"
  }
 },
 "nbformat": 4,
 "nbformat_minor": 5
}
