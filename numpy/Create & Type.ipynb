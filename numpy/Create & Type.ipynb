{
 "cells": [
  {
   "cell_type": "markdown",
   "id": "5d79d29d",
   "metadata": {},
   "source": [
    "## Demo"
   ]
  },
  {
   "cell_type": "code",
   "execution_count": 2,
   "id": "6105171c",
   "metadata": {},
   "outputs": [
    {
     "data": {
      "text/plain": [
       "array([1, 2, 3, 4])"
      ]
     },
     "execution_count": 2,
     "metadata": {},
     "output_type": "execute_result"
    }
   ],
   "source": [
    "import numpy as np\n",
    "x = np.array([1,2,3,4])\n",
    "x"
   ]
  },
  {
   "cell_type": "code",
   "execution_count": 5,
   "id": "471a13ae",
   "metadata": {},
   "outputs": [
    {
     "name": "stdout",
     "output_type": "stream",
     "text": [
      "[1 2 3 4]\n",
      "<class 'numpy.ndarray'>\n"
     ]
    }
   ],
   "source": [
    "print(x)\n",
    "print(type(x))"
   ]
  },
  {
   "cell_type": "code",
   "execution_count": 6,
   "id": "2dafcc09",
   "metadata": {},
   "outputs": [
    {
     "name": "stdout",
     "output_type": "stream",
     "text": [
      "[1, 2, 3, 4]\n",
      "<class 'list'>\n"
     ]
    }
   ],
   "source": [
    "y = [1,2,3,4]\n",
    "print(y)\n",
    "print(type(y))"
   ]
  },
  {
   "cell_type": "markdown",
   "id": "9e6290bc",
   "metadata": {},
   "source": [
    "## Compare time list vs numpy"
   ]
  },
  {
   "cell_type": "code",
   "execution_count": 8,
   "id": "8b11d3da",
   "metadata": {},
   "outputs": [
    {
     "name": "stdout",
     "output_type": "stream",
     "text": [
      "2.57 µs ± 259 ns per loop (mean ± std. dev. of 7 runs, 100,000 loops each)\n"
     ]
    }
   ],
   "source": [
    "%timeit [i**4 for i in range(1,9)]"
   ]
  },
  {
   "cell_type": "code",
   "execution_count": 9,
   "id": "e2e4a541",
   "metadata": {},
   "outputs": [
    {
     "name": "stdout",
     "output_type": "stream",
     "text": [
      "2.33 µs ± 263 ns per loop (mean ± std. dev. of 7 runs, 100,000 loops each)\n"
     ]
    }
   ],
   "source": [
    "%timeit np.arange(1,9)**4"
   ]
  },
  {
   "cell_type": "markdown",
   "id": "858c7f9c",
   "metadata": {},
   "source": [
    "## Create numpy"
   ]
  },
  {
   "cell_type": "code",
   "execution_count": 10,
   "id": "a32dca75",
   "metadata": {},
   "outputs": [
    {
     "name": "stdout",
     "output_type": "stream",
     "text": [
      "[1 2 3 4]\n"
     ]
    }
   ],
   "source": [
    "import numpy as np\n",
    "x = [1,2,3,4]\n",
    "y = np.array(x)\n",
    "print(y)"
   ]
  },
  {
   "cell_type": "code",
   "execution_count": 11,
   "id": "a903b040",
   "metadata": {},
   "outputs": [
    {
     "name": "stdout",
     "output_type": "stream",
     "text": [
      "[1 2 3 4]\n"
     ]
    }
   ],
   "source": [
    "y = np.array([1,2,3,4])\n",
    "print(y)"
   ]
  },
  {
   "cell_type": "code",
   "execution_count": 13,
   "id": "185e5060",
   "metadata": {},
   "outputs": [
    {
     "name": "stdout",
     "output_type": "stream",
     "text": [
      "1\n"
     ]
    }
   ],
   "source": [
    "print(y.ndim)"
   ]
  },
  {
   "cell_type": "code",
   "execution_count": 12,
   "id": "ed4bc30f",
   "metadata": {},
   "outputs": [
    {
     "name": "stdout",
     "output_type": "stream",
     "text": [
      "Enter: 2\n",
      "Enter: 3\n",
      "Enter: 1\n",
      "Enter: 4\n",
      "Enter: 6\n",
      "['2', '3', '1', '4', '6']\n"
     ]
    }
   ],
   "source": [
    "l = []\n",
    "for i in range(5):\n",
    "    inpt = input(\"Enter: \")\n",
    "    l.append(inpt)\n",
    "print(l)"
   ]
  },
  {
   "cell_type": "code",
   "execution_count": 14,
   "id": "770af9c6",
   "metadata": {},
   "outputs": [
    {
     "name": "stdout",
     "output_type": "stream",
     "text": [
      "[[1 2 3 4]\n",
      " [2 3 4 5]]\n",
      "2\n"
     ]
    }
   ],
   "source": [
    "ar2 = np.array([[1,2,3,4],[2,3,4,5]])\n",
    "print(ar2)\n",
    "print(ar2.ndim)"
   ]
  },
  {
   "cell_type": "code",
   "execution_count": 15,
   "id": "368760b5",
   "metadata": {},
   "outputs": [
    {
     "name": "stdout",
     "output_type": "stream",
     "text": [
      "[list([1, 2, 3, 4]) list([2, 3, 4])]\n",
      "1\n"
     ]
    },
    {
     "name": "stderr",
     "output_type": "stream",
     "text": [
      "C:\\Users\\01154\\AppData\\Local\\Temp\\ipykernel_7524\\327119849.py:1: VisibleDeprecationWarning: Creating an ndarray from ragged nested sequences (which is a list-or-tuple of lists-or-tuples-or ndarrays with different lengths or shapes) is deprecated. If you meant to do this, you must specify 'dtype=object' when creating the ndarray.\n",
      "  ar2 = np.array([[1,2,3,4],[2,3,4]])\n"
     ]
    }
   ],
   "source": [
    "# must declare same element in array\n",
    "ar2 = np.array([[1,2,3,4],[2,3,4]])\n",
    "print(ar2)\n",
    "print(ar2.ndim)"
   ]
  },
  {
   "cell_type": "code",
   "execution_count": 18,
   "id": "b73815f5",
   "metadata": {},
   "outputs": [
    {
     "name": "stdout",
     "output_type": "stream",
     "text": [
      "[[[ 1  2  3  4]\n",
      "  [ 5  6  7  8]\n",
      "  [ 9 10 11 12]]]\n",
      "3\n"
     ]
    }
   ],
   "source": [
    "ar3 = np.array([[[1,2,3,4],[5,6,7,8],[9,10,11,12]]])\n",
    "print(ar3)\n",
    "print(ar3.ndim)"
   ]
  },
  {
   "cell_type": "code",
   "execution_count": 20,
   "id": "80a7cf67",
   "metadata": {},
   "outputs": [
    {
     "name": "stdout",
     "output_type": "stream",
     "text": [
      "[[[[[[[[[[1 2 3 4]]]]]]]]]]\n",
      "10\n"
     ]
    }
   ],
   "source": [
    "arn = np.array([1,2,3,4],ndmin=10)\n",
    "print(arn)\n",
    "print(arn.ndim)"
   ]
  },
  {
   "cell_type": "markdown",
   "id": "01341282",
   "metadata": {},
   "source": [
    "## Create numby by function"
   ]
  },
  {
   "cell_type": "markdown",
   "id": "5bdf30a2",
   "metadata": {},
   "source": [
    "1. <strong>Zeros</strong>"
   ]
  },
  {
   "cell_type": "code",
   "execution_count": 21,
   "id": "3c75132e",
   "metadata": {
    "scrolled": true
   },
   "outputs": [
    {
     "name": "stdout",
     "output_type": "stream",
     "text": [
      "[0. 0. 0. 0.]\n"
     ]
    }
   ],
   "source": [
    "import numpy as np\n",
    "ar_zero = np.zeros(4) # 4 element in array\n",
    "print(ar_zero)"
   ]
  },
  {
   "cell_type": "code",
   "execution_count": 22,
   "id": "c3b4d70e",
   "metadata": {
    "scrolled": true
   },
   "outputs": [
    {
     "name": "stdout",
     "output_type": "stream",
     "text": [
      "[[0. 0. 0. 0.]\n",
      " [0. 0. 0. 0.]\n",
      " [0. 0. 0. 0.]]\n"
     ]
    }
   ],
   "source": [
    "ar_zero1 = np.zeros((3,4)) # 3 parent, with 4 element child in 1 parent\n",
    "print(ar_zero1)"
   ]
  },
  {
   "cell_type": "markdown",
   "id": "b1d2b820",
   "metadata": {},
   "source": [
    "2. <strong>Ones</strong>"
   ]
  },
  {
   "cell_type": "code",
   "execution_count": 24,
   "id": "c47f7f5f",
   "metadata": {},
   "outputs": [
    {
     "name": "stdout",
     "output_type": "stream",
     "text": [
      "[1. 1. 1. 1.]\n"
     ]
    }
   ],
   "source": [
    "import numpy as np\n",
    "ar_one = np.ones(4)\n",
    "print(ar_one)"
   ]
  },
  {
   "cell_type": "markdown",
   "id": "d69de522",
   "metadata": {},
   "source": [
    "3. <strong>Empty</strong>"
   ]
  },
  {
   "cell_type": "code",
   "execution_count": 25,
   "id": "888ef572",
   "metadata": {
    "scrolled": true
   },
   "outputs": [
    {
     "name": "stdout",
     "output_type": "stream",
     "text": [
      "[1. 1. 1. 1.]\n"
     ]
    }
   ],
   "source": [
    "import numpy as np\n",
    "ar_emp = np.empty(4)\n",
    "print(ar_emp)"
   ]
  },
  {
   "cell_type": "markdown",
   "id": "7d90f2b1",
   "metadata": {},
   "source": [
    "4. <strong>Range</strong>"
   ]
  },
  {
   "cell_type": "code",
   "execution_count": 26,
   "id": "88bc2790",
   "metadata": {},
   "outputs": [
    {
     "name": "stdout",
     "output_type": "stream",
     "text": [
      "[0 1 2 3]\n"
     ]
    }
   ],
   "source": [
    "import numpy as np\n",
    "ar_range = np.arange(4)\n",
    "print(ar_range)"
   ]
  },
  {
   "cell_type": "markdown",
   "id": "5af9bf77",
   "metadata": {},
   "source": [
    "5. <strong>Diagonal</strong>"
   ]
  },
  {
   "cell_type": "code",
   "execution_count": 27,
   "id": "d9814e49",
   "metadata": {
    "scrolled": true
   },
   "outputs": [
    {
     "name": "stdout",
     "output_type": "stream",
     "text": [
      "[[1. 0. 0.]\n",
      " [0. 1. 0.]\n",
      " [0. 0. 1.]]\n"
     ]
    }
   ],
   "source": [
    "import numpy as np\n",
    "ar_dia = np.eye(3)\n",
    "print(ar_dia)"
   ]
  },
  {
   "cell_type": "code",
   "execution_count": 29,
   "id": "b8933066",
   "metadata": {},
   "outputs": [
    {
     "name": "stdout",
     "output_type": "stream",
     "text": [
      "[[1. 0. 0. 0. 0.]\n",
      " [0. 1. 0. 0. 0.]\n",
      " [0. 0. 1. 0. 0.]]\n"
     ]
    }
   ],
   "source": [
    "ar_dia = np.eye(3,5)\n",
    "print(ar_dia)"
   ]
  },
  {
   "cell_type": "markdown",
   "id": "0eb2f0c7",
   "metadata": {},
   "source": [
    "6. <strong>linspace</strong>"
   ]
  },
  {
   "cell_type": "code",
   "execution_count": 34,
   "id": "d8cf8eba",
   "metadata": {},
   "outputs": [
    {
     "name": "stdout",
     "output_type": "stream",
     "text": [
      "[ 0.   2.5  5.   7.5 10. ]\n"
     ]
    }
   ],
   "source": [
    "import numpy as np\n",
    "ar_lins = np.linspace(0,10,num=5)\n",
    "print(ar_lins)"
   ]
  },
  {
   "cell_type": "markdown",
   "id": "ad46cc70",
   "metadata": {},
   "source": [
    "## Create numpy with random"
   ]
  },
  {
   "cell_type": "markdown",
   "id": "72f69daf",
   "metadata": {},
   "source": [
    "1. <strong>Rand()</strong>"
   ]
  },
  {
   "cell_type": "code",
   "execution_count": 35,
   "id": "08b6f8b5",
   "metadata": {},
   "outputs": [
    {
     "name": "stdout",
     "output_type": "stream",
     "text": [
      "[0.25419659 0.54984877 0.27957609 0.99728709]\n"
     ]
    }
   ],
   "source": [
    "import numpy as np\n",
    "var = np.random.rand(4)\n",
    "print(var)"
   ]
  },
  {
   "cell_type": "code",
   "execution_count": 36,
   "id": "e83ade57",
   "metadata": {},
   "outputs": [
    {
     "name": "stdout",
     "output_type": "stream",
     "text": [
      "[[0.35778994 0.18663043 0.60852859 0.82074885 0.86952068]\n",
      " [0.2061702  0.20533135 0.46082707 0.05211354 0.51601059]]\n"
     ]
    }
   ],
   "source": [
    "var1 = np.random.rand(2,5)\n",
    "print(var1)"
   ]
  },
  {
   "cell_type": "markdown",
   "id": "6fe79553",
   "metadata": {},
   "source": [
    "2. <strong>randn()</strong>"
   ]
  },
  {
   "cell_type": "code",
   "execution_count": 37,
   "id": "035ba742",
   "metadata": {
    "scrolled": true
   },
   "outputs": [
    {
     "name": "stdout",
     "output_type": "stream",
     "text": [
      "[ 0.20152389 -0.15835304 -1.12848554 -0.49460012 -1.53310349]\n"
     ]
    }
   ],
   "source": [
    "var = np.random.randn(5)\n",
    "print(var)"
   ]
  },
  {
   "cell_type": "markdown",
   "id": "2f916194",
   "metadata": {},
   "source": [
    "3. <strong>ranf()</strong>"
   ]
  },
  {
   "cell_type": "code",
   "execution_count": 38,
   "id": "557ae347",
   "metadata": {},
   "outputs": [
    {
     "name": "stdout",
     "output_type": "stream",
     "text": [
      "[0.23043823 0.46141427 0.26035653 0.80387629]\n"
     ]
    }
   ],
   "source": [
    "var = np.random.ranf(4)\n",
    "print(var)"
   ]
  },
  {
   "cell_type": "markdown",
   "id": "18018c03",
   "metadata": {},
   "source": [
    "4. <strong>randint()</strong>"
   ]
  },
  {
   "cell_type": "code",
   "execution_count": 39,
   "id": "c62d0e1c",
   "metadata": {},
   "outputs": [
    {
     "name": "stdout",
     "output_type": "stream",
     "text": [
      "[12  6  6  8  5]\n"
     ]
    }
   ],
   "source": [
    "# np.random.randint(min, max, total_value)\n",
    "var = np.random.randint(5,20,5)\n",
    "print(var)"
   ]
  },
  {
   "cell_type": "markdown",
   "id": "78991cad",
   "metadata": {},
   "source": [
    "# Data type"
   ]
  },
  {
   "cell_type": "code",
   "execution_count": 40,
   "id": "25f6bb91",
   "metadata": {},
   "outputs": [
    {
     "name": "stdout",
     "output_type": "stream",
     "text": [
      "Data type:  int32\n"
     ]
    }
   ],
   "source": [
    "import numpy as np\n",
    "var = np.array([1,2,3,4,11,12,13,14,15])\n",
    "print(\"Data type: \",var.dtype)"
   ]
  },
  {
   "cell_type": "code",
   "execution_count": 41,
   "id": "eaaeaabd",
   "metadata": {},
   "outputs": [
    {
     "name": "stdout",
     "output_type": "stream",
     "text": [
      "Data type:  float64\n"
     ]
    }
   ],
   "source": [
    "var = np.array([1.0,2.4,4.5,6.3])\n",
    "print(\"Data type: \",var.dtype)"
   ]
  },
  {
   "cell_type": "code",
   "execution_count": 42,
   "id": "29f524a2",
   "metadata": {},
   "outputs": [
    {
     "name": "stdout",
     "output_type": "stream",
     "text": [
      "Data type:  <U1\n"
     ]
    }
   ],
   "source": [
    "var = np.array([\"A\",\"C\",\"D\",\"T\"])\n",
    "print(\"Data type: \",var.dtype)"
   ]
  },
  {
   "cell_type": "code",
   "execution_count": 43,
   "id": "f5806ff6",
   "metadata": {},
   "outputs": [
    {
     "name": "stdout",
     "output_type": "stream",
     "text": [
      "Data type:  <U11\n"
     ]
    }
   ],
   "source": [
    "var = np.array([\"A\",\"C\",\"D\",\"T\",1,2,3,4])\n",
    "print(\"Data type: \",var.dtype)"
   ]
  },
  {
   "cell_type": "code",
   "execution_count": 44,
   "id": "00351691",
   "metadata": {
    "scrolled": true
   },
   "outputs": [
    {
     "name": "stdout",
     "output_type": "stream",
     "text": [
      "Data type:  int8\n"
     ]
    }
   ],
   "source": [
    "var = np.array([1,2,3,4,11,12,13,14,15],dtype=np.int8)\n",
    "print(\"Data type: \",var.dtype)"
   ]
  },
  {
   "cell_type": "code",
   "execution_count": 45,
   "id": "0bdfb31f",
   "metadata": {},
   "outputs": [
    {
     "name": "stdout",
     "output_type": "stream",
     "text": [
      "Data type:  float32\n"
     ]
    }
   ],
   "source": [
    "var = np.array([1,2,3,4,11,12,13,14,15],dtype=\"f\")\n",
    "print(\"Data type: \",var.dtype)"
   ]
  },
  {
   "cell_type": "code",
   "execution_count": 47,
   "id": "205834bd",
   "metadata": {},
   "outputs": [
    {
     "name": "stdout",
     "output_type": "stream",
     "text": [
      "Data type:  int32\n",
      "Data type:  float32\n",
      "[ 1  2  3  4 11 12 13 14 15]\n",
      "[ 1.  2.  3.  4. 11. 12. 13. 14. 15.]\n"
     ]
    }
   ],
   "source": [
    "var = np.array([1,2,3,4,11,12,13,14,15])\n",
    "new = np.float32(var)\n",
    "print(\"Data type: \",var.dtype)\n",
    "print(\"Data type: \",new.dtype)\n",
    "print(var)\n",
    "print(new)"
   ]
  },
  {
   "cell_type": "code",
   "execution_count": 48,
   "id": "4b109922",
   "metadata": {},
   "outputs": [
    {
     "name": "stdout",
     "output_type": "stream",
     "text": [
      "Data type:  int32\n",
      "Data type:  float32\n",
      "Data type:  int32\n",
      "[ 1  2  3  4 11 12 13 14 15]\n",
      "[ 1.  2.  3.  4. 11. 12. 13. 14. 15.]\n",
      "[ 1  2  3  4 11 12 13 14 15]\n"
     ]
    }
   ],
   "source": [
    "var = np.array([1,2,3,4,11,12,13,14,15])\n",
    "new = np.float32(var)\n",
    "new2 = np.int_(new)\n",
    "print(\"Data type: \",var.dtype)\n",
    "print(\"Data type: \",new.dtype)\n",
    "print(\"Data type: \",new2.dtype)\n",
    "print(var)\n",
    "print(new)\n",
    "print(new2)"
   ]
  },
  {
   "cell_type": "code",
   "execution_count": 49,
   "id": "b86b3357",
   "metadata": {},
   "outputs": [
    {
     "name": "stdout",
     "output_type": "stream",
     "text": [
      "[ 1  2  3  4 11 12 13 14 15]\n",
      "[ 1.  2.  3.  4. 11. 12. 13. 14. 15.]\n"
     ]
    }
   ],
   "source": [
    "x =  np.array([1,2,3,4,11,12,13,14,15])\n",
    "new = x.astype(float)\n",
    "print(x)\n",
    "print(new)"
   ]
  }
 ],
 "metadata": {
  "kernelspec": {
   "display_name": "Python 3 (ipykernel)",
   "language": "python",
   "name": "python3"
  },
  "language_info": {
   "codemirror_mode": {
    "name": "ipython",
    "version": 3
   },
   "file_extension": ".py",
   "mimetype": "text/x-python",
   "name": "python",
   "nbconvert_exporter": "python",
   "pygments_lexer": "ipython3",
   "version": "3.10.7"
  }
 },
 "nbformat": 4,
 "nbformat_minor": 5
}
