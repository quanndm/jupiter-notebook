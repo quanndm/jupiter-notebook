{
 "cells": [
  {
   "cell_type": "code",
   "execution_count": 1,
   "id": "532eb5fa",
   "metadata": {},
   "outputs": [],
   "source": [
    "import numpy as np"
   ]
  },
  {
   "cell_type": "code",
   "execution_count": 5,
   "id": "8c71595d",
   "metadata": {},
   "outputs": [
    {
     "name": "stdout",
     "output_type": "stream",
     "text": [
      "[1 2 3 4]\n",
      "[1 2 3 4]\n",
      "\n",
      "[2 2 3 4]\n",
      "[1 2 3 4]\n",
      "\n"
     ]
    }
   ],
   "source": [
    "var = np.array([1,2,3,4])\n",
    "co = var.copy()\n",
    "\n",
    "print(var)\n",
    "print(co)\n",
    "print()\n",
    "\n",
    "var[0] = 2\n",
    "print(var)\n",
    "print(co)\n",
    "print()"
   ]
  },
  {
   "cell_type": "code",
   "execution_count": 6,
   "id": "75b365c7",
   "metadata": {},
   "outputs": [
    {
     "name": "stdout",
     "output_type": "stream",
     "text": [
      "[1 2 3 4]\n",
      "[1 2 3 4]\n",
      "\n",
      "[2 2 3 4]\n",
      "[2 2 3 4]\n",
      "\n"
     ]
    }
   ],
   "source": [
    "var1 = np.array([1,2,3,4])\n",
    "vw = var1.view()\n",
    "\n",
    "print(var1)\n",
    "print(vw)\n",
    "print()\n",
    "\n",
    "var1[0] = 2\n",
    "print(var1)\n",
    "print(vw)\n",
    "print()"
   ]
  }
 ],
 "metadata": {
  "kernelspec": {
   "display_name": "Python 3 (ipykernel)",
   "language": "python",
   "name": "python3"
  },
  "language_info": {
   "codemirror_mode": {
    "name": "ipython",
    "version": 3
   },
   "file_extension": ".py",
   "mimetype": "text/x-python",
   "name": "python",
   "nbconvert_exporter": "python",
   "pygments_lexer": "ipython3",
   "version": "3.10.7"
  }
 },
 "nbformat": 4,
 "nbformat_minor": 5
}
