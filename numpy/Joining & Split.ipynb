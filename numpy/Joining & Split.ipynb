{
 "cells": [
  {
   "cell_type": "markdown",
   "id": "bef09e10",
   "metadata": {},
   "source": [
    "# Join Array"
   ]
  },
  {
   "cell_type": "code",
   "execution_count": 1,
   "id": "0bd6c502",
   "metadata": {},
   "outputs": [],
   "source": [
    "import numpy as np"
   ]
  },
  {
   "cell_type": "code",
   "execution_count": 3,
   "id": "909c991c",
   "metadata": {},
   "outputs": [
    {
     "name": "stdout",
     "output_type": "stream",
     "text": [
      "[1 2 3 4 5 6 7 8]\n"
     ]
    }
   ],
   "source": [
    "var1 = np.array([1,2,3,4])\n",
    "var2 = np.array([5,6,7,8])\n",
    "ar = np.concatenate((var1, var2))\n",
    "print(ar)"
   ]
  },
  {
   "cell_type": "code",
   "execution_count": 5,
   "id": "fe22ea63",
   "metadata": {},
   "outputs": [
    {
     "name": "stdout",
     "output_type": "stream",
     "text": [
      "[[1 2]\n",
      " [3 4]\n",
      " [5 6]\n",
      " [7 8]]\n",
      "\n",
      "[[1 2 5 6]\n",
      " [3 4 7 8]]\n"
     ]
    }
   ],
   "source": [
    "x1 = np.array([[1,2],[3,4]])\n",
    "x2 = np.array([[5,6],[7,8]])\n",
    "ar1 = np.concatenate((x1, x2))\n",
    "print(ar1)\n",
    "print()\n",
    "ar1 = np.concatenate((x1, x2), axis=1)\n",
    "print(ar1)"
   ]
  },
  {
   "cell_type": "code",
   "execution_count": 9,
   "id": "00f44090",
   "metadata": {},
   "outputs": [
    {
     "name": "stdout",
     "output_type": "stream",
     "text": [
      "[[1 2 3 4]\n",
      " [5 6 7 8]]\n",
      "\n",
      "[[1 5]\n",
      " [2 6]\n",
      " [3 7]\n",
      " [4 8]]\n",
      "\n",
      "[1 2 3 4 5 6 7 8]\n",
      "\n",
      "[[1 2 3 4]\n",
      " [5 6 7 8]]\n",
      "\n",
      "[[[1 5]\n",
      "  [2 6]\n",
      "  [3 7]\n",
      "  [4 8]]]\n"
     ]
    }
   ],
   "source": [
    "var_1 = np.array([1,2,3,4])\n",
    "var_2 = np.array([5,6,7,8])\n",
    "ar_1 = np.stack((var_1, var_2))\n",
    "print(ar_1)\n",
    "print()\n",
    "ar_1 = np.stack((var_1, var_2),axis=1)\n",
    "print(ar_1)\n",
    "print()\n",
    "ar_1 = np.hstack((var_1, var_2)) #row\n",
    "print(ar_1)\n",
    "print()\n",
    "ar_1 = np.vstack((var_1, var_2)) #column\n",
    "print(ar_1)\n",
    "print()\n",
    "ar_1 = np.dstack((var_1, var_2)) # height\n",
    "print(ar_1)"
   ]
  },
  {
   "cell_type": "markdown",
   "id": "27b91afc",
   "metadata": {},
   "source": [
    "# Split Array"
   ]
  },
  {
   "cell_type": "code",
   "execution_count": 12,
   "id": "de18cf98",
   "metadata": {
    "scrolled": true
   },
   "outputs": [
    {
     "name": "stdout",
     "output_type": "stream",
     "text": [
      "[1 2 3 4 5 6]\n",
      "[array([1, 2]), array([3, 4]), array([5]), array([6])]\n"
     ]
    }
   ],
   "source": [
    "var = np.array([1,2,3,4,5,6])\n",
    "print(var)\n",
    "ar = np.array_split(var,4)\n",
    "print(ar)"
   ]
  },
  {
   "cell_type": "code",
   "execution_count": 14,
   "id": "115386e0",
   "metadata": {},
   "outputs": [
    {
     "name": "stdout",
     "output_type": "stream",
     "text": [
      "[[1 2]\n",
      " [3 4]\n",
      " [5 6]]\n",
      "[array([[1, 2]]), array([[3, 4]]), array([[5, 6]])]\n",
      "[array([[1],\n",
      "       [3],\n",
      "       [5]]), array([[2],\n",
      "       [4],\n",
      "       [6]]), array([], shape=(3, 0), dtype=int32)]\n"
     ]
    }
   ],
   "source": [
    "var1 = np.array([[1,2],[3,4],[5,6]])\n",
    "print(var1)\n",
    "ar1 = np.array_split(var1,3)\n",
    "ar2 = np.array_split(var1,3, axis=1)\n",
    "print(ar1)\n",
    "print(ar2)"
   ]
  }
 ],
 "metadata": {
  "kernelspec": {
   "display_name": "Python 3 (ipykernel)",
   "language": "python",
   "name": "python3"
  },
  "language_info": {
   "codemirror_mode": {
    "name": "ipython",
    "version": 3
   },
   "file_extension": ".py",
   "mimetype": "text/x-python",
   "name": "python",
   "nbconvert_exporter": "python",
   "pygments_lexer": "ipython3",
   "version": "3.10.7"
  }
 },
 "nbformat": 4,
 "nbformat_minor": 5
}
