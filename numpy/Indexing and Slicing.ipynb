{
 "cells": [
  {
   "cell_type": "code",
   "execution_count": 1,
   "id": "e135900a",
   "metadata": {},
   "outputs": [],
   "source": [
    "import numpy as np"
   ]
  },
  {
   "cell_type": "markdown",
   "id": "2a0cb135",
   "metadata": {},
   "source": [
    "# Indexing"
   ]
  },
  {
   "cell_type": "code",
   "execution_count": 5,
   "id": "750167f1",
   "metadata": {},
   "outputs": [
    {
     "name": "stdout",
     "output_type": "stream",
     "text": [
      "8\n",
      "6\n"
     ]
    }
   ],
   "source": [
    "var = np.array([9,8,7,6])\n",
    "#               0 1 2 3\n",
    "#               4-3-2-1\n",
    "print(var[1])\n",
    "print(var[-1])"
   ]
  },
  {
   "cell_type": "code",
   "execution_count": 9,
   "id": "b36de7f9",
   "metadata": {},
   "outputs": [
    {
     "name": "stdout",
     "output_type": "stream",
     "text": [
      "[[9 8 7]\n",
      " [6 5 4]]\n",
      "2\n",
      "\n",
      "8\n"
     ]
    }
   ],
   "source": [
    "var = np.array([[9,8,7],[6,5,4]])\n",
    "print(var)\n",
    "print(var.ndim)\n",
    "print()\n",
    "\n",
    "print(var[0,1])"
   ]
  },
  {
   "cell_type": "code",
   "execution_count": 13,
   "id": "fd5a291f",
   "metadata": {},
   "outputs": [
    {
     "name": "stdout",
     "output_type": "stream",
     "text": [
      "[[[9 8 7]\n",
      "  [6 5 4]\n",
      "  [3 2 1]]]\n",
      "3\n",
      "\n",
      "4\n",
      "8\n"
     ]
    }
   ],
   "source": [
    "var = np.array([[[9,8,7],[6,5,4],[3,2,1]]])\n",
    "print(var)\n",
    "print(var.ndim)\n",
    "print()\n",
    "print(var[0,1,2])\n",
    "print(var[0,0,1])"
   ]
  },
  {
   "cell_type": "markdown",
   "id": "624ad5b4",
   "metadata": {},
   "source": [
    "# Slicing\n",
    " - With 1D: x[start:stop:step]"
   ]
  },
  {
   "cell_type": "code",
   "execution_count": 20,
   "id": "0148a120",
   "metadata": {
    "scrolled": true
   },
   "outputs": [
    {
     "name": "stdout",
     "output_type": "stream",
     "text": [
      "[1 2 3 4 5 6 7]\n",
      "\n",
      "print arr from index 2 to below 5: [3 4 5]\n",
      "print arr from index 2 to end [3 4 5 6 7]\n",
      "print arr from start to below index 5 [1 2 3 4 5]\n",
      "print arr with start 2, stop 5, step 2 [3 5]\n"
     ]
    }
   ],
   "source": [
    "var = np.array([1,2,3,4,5,6,7])\n",
    "print(var)\n",
    "print()\n",
    "\n",
    "print(\"print arr from index 2 to below 5:\", var[2:5])\n",
    "print(\"print arr from index 2 to end\", var[2:])\n",
    "print(\"print arr from start to below index 5\", var[:5])\n",
    "print(\"print arr with start 2, stop 5, step 2\", var[2:5:2])"
   ]
  },
  {
   "cell_type": "markdown",
   "id": "d689b12d",
   "metadata": {},
   "source": [
    "- With 2D: x[index_array_child, start:stop:step]"
   ]
  },
  {
   "cell_type": "code",
   "execution_count": 22,
   "id": "49a533b9",
   "metadata": {},
   "outputs": [
    {
     "name": "stdout",
     "output_type": "stream",
     "text": [
      "[[ 1  2  3  4  5]\n",
      " [ 6  7  8  9 10]\n",
      " [11 12 13 14 15]]\n",
      "\n",
      "[7 8 9]\n"
     ]
    }
   ],
   "source": [
    "var = np.array([[1,2,3,4,5],[6,7,8,9,10],[11,12,13,14,15]])\n",
    "print(var)\n",
    "print()\n",
    "print(var[1,1:4])"
   ]
  }
 ],
 "metadata": {
  "kernelspec": {
   "display_name": "Python 3 (ipykernel)",
   "language": "python",
   "name": "python3"
  },
  "language_info": {
   "codemirror_mode": {
    "name": "ipython",
    "version": 3
   },
   "file_extension": ".py",
   "mimetype": "text/x-python",
   "name": "python",
   "nbconvert_exporter": "python",
   "pygments_lexer": "ipython3",
   "version": "3.10.7"
  }
 },
 "nbformat": 4,
 "nbformat_minor": 5
}
