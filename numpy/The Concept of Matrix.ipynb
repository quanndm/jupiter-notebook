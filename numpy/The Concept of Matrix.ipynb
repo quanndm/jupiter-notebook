{
 "cells": [
  {
   "cell_type": "markdown",
   "id": "5299ab48",
   "metadata": {},
   "source": [
    "# Matrix"
   ]
  },
  {
   "cell_type": "code",
   "execution_count": 1,
   "id": "3acee428",
   "metadata": {},
   "outputs": [],
   "source": [
    "import numpy as np"
   ]
  },
  {
   "cell_type": "code",
   "execution_count": 11,
   "id": "e5443169",
   "metadata": {},
   "outputs": [
    {
     "name": "stdout",
     "output_type": "stream",
     "text": [
      "[[1 2 3]\n",
      " [4 5 6]]\n",
      "<class 'numpy.matrix'>\n",
      "\n",
      "[[ 2  4  6]\n",
      " [ 8 10 12]]\n",
      "\n",
      "[[0 0 0]\n",
      " [0 0 0]]\n",
      "\n",
      "\n",
      "[[1. 1. 1.]\n",
      " [1. 1. 1.]]\n"
     ]
    }
   ],
   "source": [
    "var = np.matrix([[1,2,3],[4,5,6]]) # dim (2,3)\n",
    "var1 = np.matrix([[1,2,3],[4,5,6]])\n",
    "print(var)\n",
    "print(type(var))\n",
    "print()\n",
    "print(var + var1)\n",
    "print()\n",
    "print(var - var1)\n",
    "print()\n",
    "# print(var * var1)  #can not multiply with not same dimension \n",
    "print()\n",
    "print(var / var1)"
   ]
  },
  {
   "cell_type": "code",
   "execution_count": 14,
   "id": "696ff861",
   "metadata": {},
   "outputs": [
    {
     "name": "stdout",
     "output_type": "stream",
     "text": [
      "[[ 7 10]\n",
      " [15 22]]\n",
      "\n",
      "[[ 7 10]\n",
      " [15 22]]\n"
     ]
    }
   ],
   "source": [
    "var = np.matrix([[1,2],[3,4]]) \n",
    "var1 = np.matrix([[1,2],[3,4]])\n",
    "print(var * var1)\n",
    "print()\n",
    "print(var.dot(var1))"
   ]
  },
  {
   "cell_type": "code",
   "execution_count": null,
   "id": "ce50b99b",
   "metadata": {},
   "outputs": [],
   "source": []
  },
  {
   "cell_type": "code",
   "execution_count": 15,
   "id": "fdc4a650",
   "metadata": {
    "scrolled": true
   },
   "outputs": [
    {
     "name": "stdout",
     "output_type": "stream",
     "text": [
      "[[1 2 3]\n",
      " [4 5 6]]\n",
      "<class 'numpy.ndarray'>\n",
      "\n",
      "[[ 1  4  9]\n",
      " [16 25 36]]\n"
     ]
    }
   ],
   "source": [
    "var = np.array([[1,2,3],[4,5,6]])\n",
    "print(var)\n",
    "print(type(var))\n",
    "print()\n",
    "print(var*var)"
   ]
  },
  {
   "cell_type": "markdown",
   "id": "444c1afb",
   "metadata": {},
   "source": [
    "# Matrix Function\n",
    "1. <strong>Transpose</strong>\n",
    "2. <strong>Swapaxes</strong>\n",
    "3. <strong>Inverse</strong>\n",
    "4. <strong>Power</strong>\n",
    "5. <strong>Determinate</strong>"
   ]
  },
  {
   "cell_type": "markdown",
   "id": "b375d897",
   "metadata": {},
   "source": [
    "1. <strong>Transpose</strong>"
   ]
  },
  {
   "cell_type": "code",
   "execution_count": 1,
   "id": "11b736ba",
   "metadata": {},
   "outputs": [],
   "source": [
    "import numpy as np"
   ]
  },
  {
   "cell_type": "code",
   "execution_count": 4,
   "id": "c0dedab6",
   "metadata": {},
   "outputs": [
    {
     "name": "stdout",
     "output_type": "stream",
     "text": [
      "[[1 2 3]\n",
      " [4 5 6]]\n",
      "\n",
      "[[1 4]\n",
      " [2 5]\n",
      " [3 6]]\n",
      "\n",
      "[[1 4]\n",
      " [2 5]\n",
      " [3 6]]\n"
     ]
    }
   ],
   "source": [
    "var = np.matrix([[1,2,3],[4,5,6]])\n",
    "print(var)\n",
    "print()\n",
    "print(np.transpose(var))\n",
    "print()\n",
    "print(var.T)"
   ]
  },
  {
   "cell_type": "markdown",
   "id": "d05204f2",
   "metadata": {},
   "source": [
    "2. <strong>Swapaxes</strong>"
   ]
  },
  {
   "cell_type": "code",
   "execution_count": 6,
   "id": "11b0782c",
   "metadata": {},
   "outputs": [
    {
     "name": "stdout",
     "output_type": "stream",
     "text": [
      "[[1 2 3]\n",
      " [4 5 6]]\n",
      "\n",
      "[[1 4]\n",
      " [2 5]\n",
      " [3 6]]\n"
     ]
    }
   ],
   "source": [
    "var = np.matrix([[1,2,3],[4,5,6]])\n",
    "print(var)\n",
    "print()\n",
    "print(np.swapaxes(var,0,1))"
   ]
  },
  {
   "cell_type": "code",
   "execution_count": 7,
   "id": "b6fd4d23",
   "metadata": {},
   "outputs": [
    {
     "name": "stdout",
     "output_type": "stream",
     "text": [
      "[[1 2]\n",
      " [3 4]]\n",
      "\n",
      "[[1 3]\n",
      " [2 4]]\n"
     ]
    }
   ],
   "source": [
    "var = np.matrix([[1,2],[3,4]])\n",
    "print(var)\n",
    "print()\n",
    "print(np.swapaxes(var,0,1))"
   ]
  },
  {
   "cell_type": "markdown",
   "id": "05134aa0",
   "metadata": {},
   "source": [
    "3. <strong>Inverse</strong>"
   ]
  },
  {
   "cell_type": "code",
   "execution_count": 8,
   "id": "fb19ada9",
   "metadata": {},
   "outputs": [
    {
     "name": "stdout",
     "output_type": "stream",
     "text": [
      "[[1 2]\n",
      " [3 4]]\n",
      "\n",
      "[[-2.   1. ]\n",
      " [ 1.5 -0.5]]\n"
     ]
    }
   ],
   "source": [
    "var = np.matrix([[1,2],[3,4]])\n",
    "print(var)\n",
    "print()\n",
    "print(np.linalg.inv(var))"
   ]
  },
  {
   "cell_type": "markdown",
   "id": "23630e78",
   "metadata": {},
   "source": [
    "4. <strong>Power</strong>"
   ]
  },
  {
   "cell_type": "code",
   "execution_count": 11,
   "id": "cc863ca5",
   "metadata": {},
   "outputs": [
    {
     "name": "stdout",
     "output_type": "stream",
     "text": [
      "[[1 2]\n",
      " [3 4]]\n",
      "\n",
      "[[ 7 10]\n",
      " [15 22]]\n",
      "\n",
      "[[1 0]\n",
      " [0 1]]\n",
      "\n",
      "[[ 5.5  -2.5 ]\n",
      " [-3.75  1.75]]\n"
     ]
    }
   ],
   "source": [
    "var = np.matrix([[1,2],[3,4]])\n",
    "print(var)\n",
    "print()\n",
    "print(np.linalg.matrix_power(var,2))\n",
    "print()\n",
    "print(np.linalg.matrix_power(var,0))\n",
    "print()\n",
    "print(np.linalg.matrix_power(var,-2))"
   ]
  },
  {
   "cell_type": "markdown",
   "id": "5915b484",
   "metadata": {},
   "source": [
    "5. <strong>Determinate</strong>"
   ]
  },
  {
   "cell_type": "code",
   "execution_count": 12,
   "id": "99eedfdf",
   "metadata": {},
   "outputs": [
    {
     "name": "stdout",
     "output_type": "stream",
     "text": [
      "[[1 2]\n",
      " [3 4]]\n",
      "\n",
      "-2.0000000000000004\n"
     ]
    }
   ],
   "source": [
    "var = np.matrix([[1,2],[3,4]])\n",
    "print(var)\n",
    "print()\n",
    "print(np.linalg.det(var))"
   ]
  },
  {
   "cell_type": "code",
   "execution_count": 13,
   "id": "4f261a89",
   "metadata": {},
   "outputs": [
    {
     "name": "stdout",
     "output_type": "stream",
     "text": [
      "[[1 2 3]\n",
      " [3 4 3]\n",
      " [1 2 3]]\n",
      "\n",
      "0.0\n"
     ]
    }
   ],
   "source": [
    "var = np.matrix([[1,2,3],[3,4,3],[1,2,3]])\n",
    "print(var)\n",
    "print()\n",
    "print(np.linalg.det(var))"
   ]
  }
 ],
 "metadata": {
  "kernelspec": {
   "display_name": "Python 3 (ipykernel)",
   "language": "python",
   "name": "python3"
  },
  "language_info": {
   "codemirror_mode": {
    "name": "ipython",
    "version": 3
   },
   "file_extension": ".py",
   "mimetype": "text/x-python",
   "name": "python",
   "nbconvert_exporter": "python",
   "pygments_lexer": "ipython3",
   "version": "3.10.7"
  }
 },
 "nbformat": 4,
 "nbformat_minor": 5
}
