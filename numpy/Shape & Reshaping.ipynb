{
 "cells": [
  {
   "cell_type": "markdown",
   "id": "128d6d3b",
   "metadata": {},
   "source": [
    "# Shape"
   ]
  },
  {
   "cell_type": "code",
   "execution_count": 1,
   "id": "801c180d",
   "metadata": {},
   "outputs": [],
   "source": [
    "import numpy as np"
   ]
  },
  {
   "cell_type": "code",
   "execution_count": 4,
   "id": "dfe20261",
   "metadata": {},
   "outputs": [
    {
     "name": "stdout",
     "output_type": "stream",
     "text": [
      "[[1 2]\n",
      " [3 4]]\n",
      "Shape:  (2, 2)\n"
     ]
    }
   ],
   "source": [
    "var = np.array([[1,2],[3,4]])\n",
    "print(var)\n",
    "print(\"Shape: \",var.shape)"
   ]
  },
  {
   "cell_type": "code",
   "execution_count": 8,
   "id": "c1b5d883",
   "metadata": {},
   "outputs": [
    {
     "name": "stdout",
     "output_type": "stream",
     "text": [
      "[[[[1 2 3 4]]]]\n",
      "Shape:  (1, 1, 1, 4)\n",
      "dim:  4\n"
     ]
    }
   ],
   "source": [
    "var1 = np.array([1,2,3,4],ndmin=4)\n",
    "print(var1)\n",
    "print(\"Shape: \",var1.shape)\n",
    "print(\"dim: \", var1.ndim)"
   ]
  },
  {
   "cell_type": "markdown",
   "id": "bf8c73d3",
   "metadata": {},
   "source": [
    "# Reshape"
   ]
  },
  {
   "cell_type": "code",
   "execution_count": 13,
   "id": "5d1fc9c2",
   "metadata": {},
   "outputs": [
    {
     "name": "stdout",
     "output_type": "stream",
     "text": [
      "[[1 2 3]\n",
      " [4 5 6]]\n",
      "2\n"
     ]
    }
   ],
   "source": [
    "var = np.array([1,2,3,4,5,6])\n",
    "x = var.reshape(2,3) # 3 element child in 1 parent * 2\n",
    "print(x)\n",
    "print(x.ndim)"
   ]
  },
  {
   "cell_type": "code",
   "execution_count": 12,
   "id": "dad4f447",
   "metadata": {},
   "outputs": [
    {
     "name": "stdout",
     "output_type": "stream",
     "text": [
      "[[1 2]\n",
      " [3 4]\n",
      " [5 6]]\n",
      "2\n"
     ]
    }
   ],
   "source": [
    "x = var.reshape(3,2) # 2 element child in 1 parent * 3\n",
    "print(x)\n",
    "print(x.ndim)"
   ]
  },
  {
   "cell_type": "code",
   "execution_count": 14,
   "id": "31d22959",
   "metadata": {},
   "outputs": [
    {
     "name": "stdout",
     "output_type": "stream",
     "text": [
      "[[1 2 3]\n",
      " [4 5 6]\n",
      " [7 8 9]]\n",
      "2\n"
     ]
    }
   ],
   "source": [
    "var = np.array([1,2,3,4,5,6,7,8,9])\n",
    "x = var.reshape(3,3) # 3 element child in 1 parent * 3\n",
    "print(x)\n",
    "print(x.ndim)"
   ]
  },
  {
   "cell_type": "code",
   "execution_count": 16,
   "id": "3fb4bc4d",
   "metadata": {
    "scrolled": true
   },
   "outputs": [
    {
     "name": "stdout",
     "output_type": "stream",
     "text": [
      "[[[1 2 3]\n",
      "  [4 5 6]\n",
      "  [7 8 9]]\n",
      "\n",
      " [[1 2 3]\n",
      "  [4 5 6]\n",
      "  [7 8 9]]]\n",
      "3\n"
     ]
    }
   ],
   "source": [
    "var = np.array([1,2,3,4,5,6,7,8,9,1,2,3,4,5,6,7,8,9])\n",
    "x = var.reshape(2,3,3) # (3 element child in 1 parent * 3) * 2\n",
    "print(x)\n",
    "print(x.ndim) #3d dimemsion"
   ]
  },
  {
   "cell_type": "code",
   "execution_count": 17,
   "id": "519df3d1",
   "metadata": {},
   "outputs": [
    {
     "name": "stdout",
     "output_type": "stream",
     "text": [
      "[[[1 2 3]\n",
      "  [4 5 6]\n",
      "  [7 8 9]]\n",
      "\n",
      " [[1 2 3]\n",
      "  [4 5 6]\n",
      "  [7 8 9]]]\n",
      "3\n",
      "\n",
      "[1 2 3 4 5 6 7 8 9 1 2 3 4 5 6 7 8 9]\n",
      "1\n"
     ]
    }
   ],
   "source": [
    "var = np.array([1,2,3,4,5,6,7,8,9,1,2,3,4,5,6,7,8,9])\n",
    "x = var.reshape(2,3,3) # (3 element child in 1 parent * 3) * 2\n",
    "print(x)\n",
    "print(x.ndim)\n",
    "print()\n",
    "x1 = x.reshape(-1)\n",
    "print(x1)\n",
    "print(x1.ndim)"
   ]
  }
 ],
 "metadata": {
  "kernelspec": {
   "display_name": "Python 3 (ipykernel)",
   "language": "python",
   "name": "python3"
  },
  "language_info": {
   "codemirror_mode": {
    "name": "ipython",
    "version": 3
   },
   "file_extension": ".py",
   "mimetype": "text/x-python",
   "name": "python",
   "nbconvert_exporter": "python",
   "pygments_lexer": "ipython3",
   "version": "3.10.7"
  }
 },
 "nbformat": 4,
 "nbformat_minor": 5
}
