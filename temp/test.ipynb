{
 "cells": [
  {
   "cell_type": "markdown",
   "id": "3da40c92",
   "metadata": {},
   "source": [
    "# Shell sort"
   ]
  },
  {
   "cell_type": "code",
   "execution_count": 16,
   "id": "f13ba93c",
   "metadata": {},
   "outputs": [
    {
     "data": {
      "text/plain": [
       "[7, 9, 17, 21, 23, 53, 61, 78, 89]"
      ]
     },
     "execution_count": 16,
     "metadata": {},
     "output_type": "execute_result"
    }
   ],
   "source": [
    "def shell_sort(arr):\n",
    "    size = len(arr)\n",
    "    gap = size //2\n",
    "    while gap > 0:\n",
    "        for i in range(gap,size):\n",
    "            anchor = arr[i]\n",
    "            j = i\n",
    "            while j >= gap and arr[j-gap] > anchor:\n",
    "                arr[j] = arr[j-gap]\n",
    "                j-=gap\n",
    "            arr[j] = anchor\n",
    "        gap //= 2\n",
    "number_list = [89,78,61,53,23,17,21,9,7]\n",
    "shell_sort(number_list)\n",
    "number_list"
   ]
  },
  {
   "cell_type": "markdown",
   "id": "6e2d7303",
   "metadata": {},
   "source": [
    "# merge sort"
   ]
  },
  {
   "cell_type": "code",
   "execution_count": 8,
   "id": "8087268d",
   "metadata": {
    "scrolled": false
   },
   "outputs": [
    {
     "data": {
      "text/plain": [
       "[3, 7, 8, 10, 15, 25, 79, 98]"
      ]
     },
     "execution_count": 8,
     "metadata": {},
     "output_type": "execute_result"
    }
   ],
   "source": [
    "def merge(arr1, arr2):\n",
    "    i = j = 0\n",
    "    size1 = len(arr1)\n",
    "    size2 = len(arr2)\n",
    "    list_result = []\n",
    "    while i < size1 and j < size2:\n",
    "        if arr1[i] < arr2[j]:\n",
    "            list_result.append(arr1[i])\n",
    "            i+=1\n",
    "        else:\n",
    "            list_result.append(arr2[j])\n",
    "            j+=1\n",
    "    while i < size1:\n",
    "        list_result.append(arr1[i])\n",
    "        i+=1\n",
    "    while j < size2:\n",
    "        list_result.append(arr2[j])\n",
    "        j+=1\n",
    "    return list_result\n",
    "def merge_sort(arr):\n",
    "    if len(arr) <= 1:\n",
    "        return arr\n",
    "    mid = len(arr)//2\n",
    "    left = arr[:mid]\n",
    "    right = arr[mid:]\n",
    "    \n",
    "    left = merge_sort(left)\n",
    "    right = merge_sort(right)\n",
    "    return merge(left,right)\n",
    "\n",
    "number_list = [10, 3, 15, 7, 8, 25, 98, 79]\n",
    "number_list = merge_sort(number_list)\n",
    "number_list"
   ]
  },
  {
   "cell_type": "markdown",
   "id": "2916c510",
   "metadata": {},
   "source": [
    "# quick sort"
   ]
  },
  {
   "cell_type": "code",
   "execution_count": 15,
   "id": "e41388cb",
   "metadata": {},
   "outputs": [
    {
     "data": {
      "text/plain": [
       "[2, 7, 9, 11, 15, 28, 29]"
      ]
     },
     "execution_count": 15,
     "metadata": {},
     "output_type": "execute_result"
    }
   ],
   "source": [
    "def partition(start, end, arr):\n",
    "    pivot_index = start\n",
    "    pivot = arr[pivot_index]\n",
    "    while start < end:\n",
    "        while start < len(arr) and arr[start] <= pivot:\n",
    "            start += 1\n",
    "        while arr[end] > pivot:\n",
    "            end -= 1\n",
    "        if start < end:\n",
    "            arr[start],arr[end] = arr[end],arr[start]\n",
    "    arr[pivot_index],arr[end] = arr[end],arr[pivot_index]\n",
    "    return end\n",
    "def quick_sort_doing(start, end, arr):\n",
    "    if start < end:\n",
    "        pivot = partition(start, end, arr)\n",
    "        quick_sort_doing(start, pivot -1, arr)\n",
    "        quick_sort_doing(pivot + 1, end, arr)\n",
    "def quick_sort(arr):\n",
    "    quick_sort_doing(0, len(arr)-1, arr)\n",
    "    \n",
    "number_list = [11, 9, 29, 7, 2, 15, 28]\n",
    "quick_sort(number_list)\n",
    "number_list"
   ]
  }
 ],
 "metadata": {
  "kernelspec": {
   "display_name": "Python 3 (ipykernel)",
   "language": "python",
   "name": "python3"
  },
  "language_info": {
   "codemirror_mode": {
    "name": "ipython",
    "version": 3
   },
   "file_extension": ".py",
   "mimetype": "text/x-python",
   "name": "python",
   "nbconvert_exporter": "python",
   "pygments_lexer": "ipython3",
   "version": "3.10.8"
  }
 },
 "nbformat": 4,
 "nbformat_minor": 5
}
